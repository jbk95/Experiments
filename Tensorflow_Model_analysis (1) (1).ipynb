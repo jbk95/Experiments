{
 "cells": [
  {
   "cell_type": "markdown",
   "metadata": {
    "id": "HI2RJw8GIMlc"
   },
   "source": [
    "# Create Dataset\n",
    "\n",
    "Generating dataset from freqtrade"
   ]
  },
  {
   "cell_type": "code",
   "execution_count": 1,
   "metadata": {
    "id": "Zb_J8EPIIm1a"
   },
   "outputs": [
    {
     "name": "stderr",
     "output_type": "stream",
     "text": [
      "2023-11-05 15:44:40.299012: I tensorflow/core/util/port.cc:111] oneDNN custom operations are on. You may see slightly different numerical results due to floating-point round-off errors from different computation orders. To turn them off, set the environment variable `TF_ENABLE_ONEDNN_OPTS=0`.\n",
      "2023-11-05 15:44:40.328511: E tensorflow/compiler/xla/stream_executor/cuda/cuda_dnn.cc:9342] Unable to register cuDNN factory: Attempting to register factory for plugin cuDNN when one has already been registered\n",
      "2023-11-05 15:44:40.328540: E tensorflow/compiler/xla/stream_executor/cuda/cuda_fft.cc:609] Unable to register cuFFT factory: Attempting to register factory for plugin cuFFT when one has already been registered\n",
      "2023-11-05 15:44:40.328555: E tensorflow/compiler/xla/stream_executor/cuda/cuda_blas.cc:1518] Unable to register cuBLAS factory: Attempting to register factory for plugin cuBLAS when one has already been registered\n",
      "2023-11-05 15:44:40.334561: I tensorflow/core/platform/cpu_feature_guard.cc:182] This TensorFlow binary is optimized to use available CPU instructions in performance-critical operations.\n",
      "To enable the following instructions: AVX2 AVX_VNNI FMA, in other operations, rebuild TensorFlow with the appropriate compiler flags.\n"
     ]
    }
   ],
   "source": [
    "import tensorflow as tf\n",
    "import numpy as np\n",
    "import matplotlib.pyplot as plt\n",
    "import pandas as pd"
   ]
  },
  {
   "cell_type": "code",
   "execution_count": 2,
   "metadata": {
    "id": "35TfQHR-IkYU"
   },
   "outputs": [],
   "source": [
    "df = pd.read_pickle(\"btc_futures_ind25.pkl\")"
   ]
  },
  {
   "cell_type": "code",
   "execution_count": 3,
   "metadata": {
    "colab": {
     "base_uri": "https://localhost:8080/"
    },
    "id": "GlOV4R6JIMle",
    "outputId": "1dd50fe0-cd3b-4c1b-82d7-634619b30f2a"
   },
   "outputs": [
    {
     "name": "stdout",
     "output_type": "stream",
     "text": [
      "<class 'pandas.core.frame.DataFrame'>\n",
      "Index: 105385 entries, 24 to 105408\n",
      "Data columns (total 26 columns):\n",
      " #   Column                    Non-Null Count   Dtype              \n",
      "---  ------                    --------------   -----              \n",
      " 0   date                      105385 non-null  datetime64[ns, UTC]\n",
      " 1   open                      105385 non-null  float64            \n",
      " 2   high                      105385 non-null  float64            \n",
      " 3   low                       105385 non-null  float64            \n",
      " 4   close                     105385 non-null  float64            \n",
      " 5   volume                    105385 non-null  float64            \n",
      " 6   obv                       105385 non-null  float64            \n",
      " 7   trend                     105385 non-null  float64            \n",
      " 8   %-rsi-period              105384 non-null  float64            \n",
      " 9   %-mfi-period              105384 non-null  float64            \n",
      " 10  %-adx-period              105360 non-null  float64            \n",
      " 11  %-sma-period              105385 non-null  float64            \n",
      " 12  %-ema-period              105385 non-null  float64            \n",
      " 13  bb_lowerband-period       105385 non-null  float64            \n",
      " 14  bb_middleband-period      105385 non-null  float64            \n",
      " 15  bb_upperband-period       105385 non-null  float64            \n",
      " 16  %-bb_width-period         105385 non-null  float64            \n",
      " 17  %-close-bb_lower-period   105385 non-null  float64            \n",
      " 18  %-roc-period              105384 non-null  float64            \n",
      " 19  %-relative_volume-period  105385 non-null  float64            \n",
      " 20  %-pct-change              105385 non-null  float64            \n",
      " 21  %-raw_volume              105385 non-null  float64            \n",
      " 22  %-raw_price               105385 non-null  float64            \n",
      " 23  %-day_of_week             105385 non-null  int32              \n",
      " 24  %-hour_of_day             105385 non-null  int32              \n",
      " 25  &s-up_or_down             105385 non-null  object             \n",
      "dtypes: datetime64[ns, UTC](1), float64(22), int32(2), object(1)\n",
      "memory usage: 20.9+ MB\n"
     ]
    }
   ],
   "source": [
    "   df.info()"
   ]
  },
  {
   "cell_type": "markdown",
   "metadata": {
    "id": "8owePrwIIMle"
   },
   "source": [
    "# Create datasets for Train, Validate, Test timeseries"
   ]
  },
  {
   "cell_type": "markdown",
   "metadata": {
    "id": "v5YzkkoAIMle"
   },
   "source": [
    "## Split Dataset"
   ]
  },
  {
   "cell_type": "code",
   "execution_count": 4,
   "metadata": {
    "id": "WeKZXul2IMlf"
   },
   "outputs": [],
   "source": [
    "# df.dropna(subset=['%-ema-period'], inplace=True)\n",
    "# df.drop(['enter_long','enter_short','exit_long','exit_short'],axis=1,inplace=True) # may try dropping date in the future\n",
    "df.drop(['open','high','close','low','%-raw_price','close','volume','trend'],axis=1,inplace=True)"
   ]
  },
  {
   "cell_type": "code",
   "execution_count": 5,
   "metadata": {
    "colab": {
     "base_uri": "https://localhost:8080/"
    },
    "id": "OtJvP-FGbQ7L",
    "outputId": "ddc5c760-4c55-433b-ba11-49a65c5abf19"
   },
   "outputs": [
    {
     "name": "stdout",
     "output_type": "stream",
     "text": [
      "<class 'pandas.core.frame.DataFrame'>\n",
      "Index: 105385 entries, 24 to 105408\n",
      "Data columns (total 19 columns):\n",
      " #   Column                    Non-Null Count   Dtype              \n",
      "---  ------                    --------------   -----              \n",
      " 0   date                      105385 non-null  datetime64[ns, UTC]\n",
      " 1   obv                       105385 non-null  float64            \n",
      " 2   %-rsi-period              105384 non-null  float64            \n",
      " 3   %-mfi-period              105384 non-null  float64            \n",
      " 4   %-adx-period              105360 non-null  float64            \n",
      " 5   %-sma-period              105385 non-null  float64            \n",
      " 6   %-ema-period              105385 non-null  float64            \n",
      " 7   bb_lowerband-period       105385 non-null  float64            \n",
      " 8   bb_middleband-period      105385 non-null  float64            \n",
      " 9   bb_upperband-period       105385 non-null  float64            \n",
      " 10  %-bb_width-period         105385 non-null  float64            \n",
      " 11  %-close-bb_lower-period   105385 non-null  float64            \n",
      " 12  %-roc-period              105384 non-null  float64            \n",
      " 13  %-relative_volume-period  105385 non-null  float64            \n",
      " 14  %-pct-change              105385 non-null  float64            \n",
      " 15  %-raw_volume              105385 non-null  float64            \n",
      " 16  %-day_of_week             105385 non-null  int32              \n",
      " 17  %-hour_of_day             105385 non-null  int32              \n",
      " 18  &s-up_or_down             105385 non-null  object             \n",
      "dtypes: datetime64[ns, UTC](1), float64(15), int32(2), object(1)\n",
      "memory usage: 15.3+ MB\n"
     ]
    }
   ],
   "source": [
    "df.info()"
   ]
  },
  {
   "cell_type": "code",
   "execution_count": 6,
   "metadata": {
    "colab": {
     "base_uri": "https://localhost:8080/"
    },
    "id": "NG09MYiuIMlf",
    "outputId": "ec4cdec1-a4a8-4c62-dc2f-74f3c6e33322"
   },
   "outputs": [
    {
     "data": {
      "text/plain": [
       "(105385, 19)"
      ]
     },
     "execution_count": 6,
     "metadata": {},
     "output_type": "execute_result"
    }
   ],
   "source": [
    "df.shape"
   ]
  },
  {
   "cell_type": "code",
   "execution_count": 7,
   "metadata": {
    "id": "Atx6bHX-OUZ3"
   },
   "outputs": [],
   "source": [
    "df['&s-up_or_down'] = np.where(df['&s-up_or_down']=='up', 1, 0)"
   ]
  },
  {
   "cell_type": "code",
   "execution_count": 8,
   "metadata": {
    "colab": {
     "base_uri": "https://localhost:8080/"
    },
    "id": "DUNJXgwtIMlf",
    "outputId": "5b85bca4-8664-4f34-d98d-f26a13d8bf3b"
   },
   "outputs": [
    {
     "name": "stdout",
     "output_type": "stream",
     "text": [
      "<class 'pandas.core.frame.DataFrame'>\n",
      "Index: 105385 entries, 24 to 105408\n",
      "Data columns (total 19 columns):\n",
      " #   Column                    Non-Null Count   Dtype              \n",
      "---  ------                    --------------   -----              \n",
      " 0   date                      105385 non-null  datetime64[ns, UTC]\n",
      " 1   obv                       105385 non-null  float64            \n",
      " 2   %-rsi-period              105384 non-null  float64            \n",
      " 3   %-mfi-period              105384 non-null  float64            \n",
      " 4   %-adx-period              105360 non-null  float64            \n",
      " 5   %-sma-period              105385 non-null  float64            \n",
      " 6   %-ema-period              105385 non-null  float64            \n",
      " 7   bb_lowerband-period       105385 non-null  float64            \n",
      " 8   bb_middleband-period      105385 non-null  float64            \n",
      " 9   bb_upperband-period       105385 non-null  float64            \n",
      " 10  %-bb_width-period         105385 non-null  float64            \n",
      " 11  %-close-bb_lower-period   105385 non-null  float64            \n",
      " 12  %-roc-period              105384 non-null  float64            \n",
      " 13  %-relative_volume-period  105385 non-null  float64            \n",
      " 14  %-pct-change              105385 non-null  float64            \n",
      " 15  %-raw_volume              105385 non-null  float64            \n",
      " 16  %-day_of_week             105385 non-null  int32              \n",
      " 17  %-hour_of_day             105385 non-null  int32              \n",
      " 18  &s-up_or_down             105385 non-null  int64              \n",
      "dtypes: datetime64[ns, UTC](1), float64(15), int32(2), int64(1)\n",
      "memory usage: 15.3 MB\n"
     ]
    }
   ],
   "source": [
    "df.info()"
   ]
  },
  {
   "cell_type": "code",
   "execution_count": 9,
   "metadata": {
    "id": "xOzFVdKBIMlf"
   },
   "outputs": [],
   "source": [
    "def split_data(dataframe, train_fraq, test_fraq):\n",
    "    \"\"\"Splits input series into train, val and test.\n",
    "    train_fraq: decimal percentage fro train\n",
    "    test_fraq: decimal percentage for test\n",
    "    \"\"\"\n",
    "    # Get Dataframe series size\n",
    "    size = df.shape[0]\n",
    "\n",
    "    test_slice = int(size - size*test_fraq)\n",
    "    test_data = dataframe.iloc[test_slice:]\n",
    "\n",
    "    train_val_data = dataframe.iloc[:test_slice]\n",
    "\n",
    "    #make train and validation from the remaining\n",
    "    train_size = int(train_val_data.shape[0] * train_fraq)\n",
    "\n",
    "    train_data = train_val_data.iloc[:train_size]\n",
    "    val_data = train_val_data.iloc[train_size:]\n",
    "\n",
    "    return train_data, val_data, test_data"
   ]
  },
  {
   "cell_type": "code",
   "execution_count": 10,
   "metadata": {
    "colab": {
     "base_uri": "https://localhost:8080/"
    },
    "id": "JUpQlHhEIMlf",
    "outputId": "759eb4bf-c04c-4ee4-fcfa-58ebafd123fa"
   },
   "outputs": [
    {
     "name": "stderr",
     "output_type": "stream",
     "text": [
      "/tmp/ipykernel_9275/298026112.py:13: SettingWithCopyWarning: \n",
      "A value is trying to be set on a copy of a slice from a DataFrame\n",
      "\n",
      "See the caveats in the documentation: https://pandas.pydata.org/pandas-docs/stable/user_guide/indexing.html#returning-a-view-versus-a-copy\n",
      "  test_data.drop(['date'],axis=1,inplace=True)\n"
     ]
    }
   ],
   "source": [
    "train_data, val_data, test_data = split_data(df, 0.85, 0.15)\n",
    "\n",
    "# Isolate Timestamp\n",
    "\n",
    "train_time = train_data['date']\n",
    "val_time = val_data['date']\n",
    "test_time = test_data['date']\n",
    "\n",
    "# Drop date from data\n",
    "\n",
    "train_data.drop(['date'],axis=1,inplace=True)\n",
    "val_data.drop(['date'],axis=1,inplace=True)\n",
    "test_data.drop(['date'],axis=1,inplace=True)"
   ]
  },
  {
   "cell_type": "code",
   "execution_count": 11,
   "metadata": {
    "colab": {
     "base_uri": "https://localhost:8080/"
    },
    "id": "IdxGq5bhIMlf",
    "outputId": "7639203e-3c1c-4f51-93f1-9c4552427653"
   },
   "outputs": [
    {
     "name": "stdout",
     "output_type": "stream",
     "text": [
      "<class 'pandas.core.series.Series'>\n",
      "Index: 15808 entries, 89601 to 105408\n",
      "Series name: date\n",
      "Non-Null Count  Dtype              \n",
      "--------------  -----              \n",
      "15808 non-null  datetime64[ns, UTC]\n",
      "dtypes: datetime64[ns, UTC](1)\n",
      "memory usage: 247.0 KB\n"
     ]
    }
   ],
   "source": [
    "test_time.info()"
   ]
  },
  {
   "cell_type": "code",
   "execution_count": 12,
   "metadata": {
    "id": "2V5u7CSJIMlf"
   },
   "outputs": [],
   "source": [
    "# Parameters\n",
    "window_size = 25 #&s-up_or_down was classified based on 25 candles cycle\n",
    "batch_size = 16\n",
    "shuffle_buffer_size = 1000"
   ]
  },
  {
   "cell_type": "code",
   "execution_count": 13,
   "metadata": {
    "id": "Rb3LNEI41401"
   },
   "outputs": [
    {
     "name": "stderr",
     "output_type": "stream",
     "text": [
      "2023-11-05 15:45:18.183817: I tensorflow/compiler/xla/stream_executor/cuda/cuda_gpu_executor.cc:880] could not open file to read NUMA node: /sys/bus/pci/devices/0000:01:00.0/numa_node\n",
      "Your kernel may have been built without NUMA support.\n",
      "2023-11-05 15:45:18.187856: I tensorflow/compiler/xla/stream_executor/cuda/cuda_gpu_executor.cc:880] could not open file to read NUMA node: /sys/bus/pci/devices/0000:01:00.0/numa_node\n",
      "Your kernel may have been built without NUMA support.\n",
      "2023-11-05 15:45:18.187892: I tensorflow/compiler/xla/stream_executor/cuda/cuda_gpu_executor.cc:880] could not open file to read NUMA node: /sys/bus/pci/devices/0000:01:00.0/numa_node\n",
      "Your kernel may have been built without NUMA support.\n",
      "2023-11-05 15:45:18.191596: I tensorflow/compiler/xla/stream_executor/cuda/cuda_gpu_executor.cc:880] could not open file to read NUMA node: /sys/bus/pci/devices/0000:01:00.0/numa_node\n",
      "Your kernel may have been built without NUMA support.\n",
      "2023-11-05 15:45:18.191638: I tensorflow/compiler/xla/stream_executor/cuda/cuda_gpu_executor.cc:880] could not open file to read NUMA node: /sys/bus/pci/devices/0000:01:00.0/numa_node\n",
      "Your kernel may have been built without NUMA support.\n",
      "2023-11-05 15:45:18.191652: I tensorflow/compiler/xla/stream_executor/cuda/cuda_gpu_executor.cc:880] could not open file to read NUMA node: /sys/bus/pci/devices/0000:01:00.0/numa_node\n",
      "Your kernel may have been built without NUMA support.\n",
      "2023-11-05 15:45:18.800917: I tensorflow/compiler/xla/stream_executor/cuda/cuda_gpu_executor.cc:880] could not open file to read NUMA node: /sys/bus/pci/devices/0000:01:00.0/numa_node\n",
      "Your kernel may have been built without NUMA support.\n",
      "2023-11-05 15:45:18.800963: I tensorflow/compiler/xla/stream_executor/cuda/cuda_gpu_executor.cc:880] could not open file to read NUMA node: /sys/bus/pci/devices/0000:01:00.0/numa_node\n",
      "Your kernel may have been built without NUMA support.\n",
      "2023-11-05 15:45:18.800969: I tensorflow/core/common_runtime/gpu/gpu_device.cc:1977] Could not identify NUMA node of platform GPU id 0, defaulting to 0.  Your kernel may not have been built with NUMA support.\n",
      "2023-11-05 15:45:18.801004: I tensorflow/compiler/xla/stream_executor/cuda/cuda_gpu_executor.cc:880] could not open file to read NUMA node: /sys/bus/pci/devices/0000:01:00.0/numa_node\n",
      "Your kernel may have been built without NUMA support.\n",
      "2023-11-05 15:45:18.801023: I tensorflow/core/common_runtime/gpu/gpu_device.cc:1886] Created device /job:localhost/replica:0/task:0/device:GPU:0 with 5391 MB memory:  -> device: 0, name: NVIDIA GeForce RTX 4060 Laptop GPU, pci bus id: 0000:01:00.0, compute capability: 8.9\n"
     ]
    }
   ],
   "source": [
    "dataset = tf.data.Dataset.from_tensor_slices(train_data)\n",
    "dataset = dataset.window(window_size + 1, shift=1, drop_remainder=True)"
   ]
  },
  {
   "cell_type": "code",
   "execution_count": 14,
   "metadata": {
    "colab": {
     "base_uri": "https://localhost:8080/"
    },
    "id": "WDs14yyn1-x5",
    "outputId": "dce1676a-b7e1-49fd-c2b2-eb1a29672a3b"
   },
   "outputs": [
    {
     "name": "stdout",
     "output_type": "stream",
     "text": [
      "[array([ 7.83117000e+02,             nan,             nan,             nan,\n",
      "        2.34187040e+04,  2.34187040e+04,  2.33362530e+04,  2.34171053e+04,\n",
      "        2.34979577e+04,  6.90540866e-03,  1.00495568e+00,             nan,\n",
      "        6.60121000e-01, -3.49529627e-04,  8.04001000e+02,  3.00000000e+00,\n",
      "        2.00000000e+00,  0.00000000e+00]), array([2.08410800e+03, 5.96630642e+01, 5.36628242e+01,            nan,\n",
      "       2.34235680e+04, 2.34230806e+04, 2.33460464e+04, 2.34224333e+04,\n",
      "       2.34988203e+04, 6.52254496e-03, 1.00554927e+00, 5.20681682e-01,\n",
      "       1.08809441e+00, 1.01057910e-03, 1.30099100e+03, 3.00000000e+00,\n",
      "       2.00000000e+00, 0.00000000e+00]), array([ 1.43366200e+03,  5.90956198e+01,  4.72210131e+01,             nan,\n",
      "        2.34262480e+04,  2.34266744e+04,  2.33474778e+04,  2.34254547e+04,\n",
      "        2.35034315e+04,  6.65744710e-03,  1.00523920e+00,  2.86290529e-01,\n",
      "        5.91861382e-01, -2.47065038e-04,  6.50446000e+02,  3.00000000e+00,\n",
      "        2.00000000e+00,  0.00000000e+00]), array([2.92370100e+03, 6.03223336e+01, 5.19041054e+01,            nan,\n",
      "       2.34299560e+04, 2.34313841e+04, 2.33483592e+04, 2.34292507e+04,\n",
      "       2.35101422e+04, 6.90517065e-03, 1.00597647e+00, 3.96235125e-01,\n",
      "       1.33662177e+00, 7.71203845e-04, 1.49003900e+03, 3.00000000e+00,\n",
      "       2.00000000e+00, 0.00000000e+00]), array([ 2.10786400e+03,  5.67566580e+01,  4.69130093e+01,             nan,\n",
      "        2.34323160e+04,  2.34329315e+04,  2.33502264e+04,  2.34315040e+04,\n",
      "        2.35127816e+04,  6.93746533e-03,  1.00433716e+00,  2.52217591e-01,\n",
      "        7.61438181e-01, -1.54973412e-03,  8.15837000e+02,  3.00000000e+00,\n",
      "        2.00000000e+00,  0.00000000e+00]), array([ 1.05385000e+03,  5.30924193e+01,  4.67054001e+01,             nan,\n",
      "        2.34348360e+04,  2.34312213e+04,  2.33592305e+04,  2.34340133e+04,\n",
      "        2.35087962e+04,  6.38241661e-03,  1.00220339e+00,  2.69833859e-01,\n",
      "        9.79472062e-01, -1.73976078e-03,  1.05401400e+03,  3.00000000e+00,\n",
      "        2.00000000e+00,  0.00000000e+00]), array([1.82791000e+03, 5.51335299e+01, 5.31703955e+01,            nan,\n",
      "       2.34394120e+04, 2.34317659e+04, 2.33860843e+04, 2.34384880e+04,\n",
      "       2.34908917e+04, 4.47159395e-03, 1.00223277e+00, 4.90484010e-01,\n",
      "       7.71730855e-01, 1.17894809e-03, 7.74060000e+02, 3.00000000e+00,\n",
      "       2.00000000e+00, 0.00000000e+00]), array([ 1.36874000e+03,  5.40331934e+01,  4.80427247e+01,             nan,\n",
      "        2.34410640e+04,  2.34313146e+04,  2.33985389e+04,  2.34407667e+04,\n",
      "        2.34829944e+04,  3.60293472e-03,  1.00116935e+00,  1.76611958e-01,\n",
      "        4.88927913e-01, -5.29048608e-04,  4.59170000e+02,  3.00000000e+00,\n",
      "        2.00000000e+00,  0.00000000e+00]), array([1.60186300e+03, 5.44985351e+01, 4.53208530e+01,            nan,\n",
      "       2.34420360e+04, 2.34313674e+04, 2.34026624e+04, 2.34418413e+04,\n",
      "       2.34810203e+04, 3.34265354e-03, 1.00125360e+00, 1.03811993e-01,\n",
      "       2.61260166e-01, 2.60395545e-04, 2.33123000e+02, 3.00000000e+00,\n",
      "       2.00000000e+00, 0.00000000e+00]), array([2.10491500e+03, 5.58790776e+01, 4.14781147e+01,            nan,\n",
      "       2.34421120e+04, 2.34328083e+04, 2.34028532e+04, 2.34420293e+04,\n",
      "       2.34812054e+04, 3.34238179e-03, 1.00201885e+00, 8.10296739e-03,\n",
      "       6.03401074e-01, 7.72447934e-04, 5.03052000e+02, 3.00000000e+00,\n",
      "       2.00000000e+00, 0.00000000e+00]), array([ 1.78652600e+03,  5.43050129e+01,  4.55451737e+01,             nan,\n",
      "        2.34421560e+04,  2.34328615e+04,  2.34027500e+04,  2.34419587e+04,\n",
      "        2.34811673e+04,  3.34516635e-03,  1.00131395e+00,  4.69435482e-03,\n",
      "        4.19357284e-01, -7.07886107e-04,  3.18389000e+02,  3.00000000e+00,\n",
      "        2.00000000e+00,  0.00000000e+00]), array([2.35530200e+03, 5.57292500e+01, 4.98650726e+01,            nan,\n",
      "       2.34432280e+04, 2.34343106e+04, 2.34050210e+04, 2.34431240e+04,\n",
      "       2.34812270e+04, 3.25067279e-03, 1.00199440e+00, 1.14408173e-01,\n",
      "       7.69612886e-01, 7.76665884e-04, 5.68776000e+02, 3.00000000e+00,\n",
      "       2.00000000e+00, 0.00000000e+00]), array([ 1.74137000e+03,  5.47813220e+01,  4.63828389e+01,             nan,\n",
      "        2.34431800e+04,  2.34349021e+04,  2.34051003e+04,  2.34431760e+04,\n",
      "        2.34812517e+04,  3.24833634e-03,  1.00157656e+00, -5.11875512e-03,\n",
      "        8.33208519e-01, -4.13616070e-04,  6.13932000e+02,  3.00000000e+00,\n",
      "        3.00000000e+00,  0.00000000e+00]), array([ 1.33929600e+03,  5.40994681e+01,  4.93080056e+01,             nan,\n",
      "        2.34435840e+04,  2.34349174e+04,  2.34058174e+04,  2.34435453e+04,\n",
      "        2.34812733e+04,  3.21862258e-03,  1.00125108e+00,  4.31163287e-02,\n",
      "        5.54040691e-01, -2.94343486e-04,  4.02074000e+02,  3.00000000e+00,\n",
      "        3.00000000e+00,  0.00000000e+00]), array([1.67714800e+03, 5.47541167e+01, 5.19113540e+01,            nan,\n",
      "       2.34440040e+04, 2.34355237e+04, 2.34068804e+04, 2.34440480e+04,\n",
      "       2.34812156e+04, 3.17075050e-03, 1.00153458e+00, 4.48099418e-02,\n",
      "       4.72302928e-01, 3.28566979e-04, 3.37852000e+02, 3.00000000e+00,\n",
      "       3.00000000e+00, 1.00000000e+00]), array([2.10546200e+03, 5.53485637e+01, 5.48072764e+01,            nan,\n",
      "       2.34457640e+04, 2.34366142e+04, 2.34110249e+04, 2.34455107e+04,\n",
      "       2.34799964e+04, 2.94177939e-03, 1.00165200e+00, 1.87988396e-01,\n",
      "       6.04316044e-01, 2.94333441e-04, 4.28314000e+02, 3.00000000e+00,\n",
      "       3.00000000e+00, 0.00000000e+00]), array([2.88681400e+03, 5.68050149e+01, 5.47754343e+01,            nan,\n",
      "       2.34463720e+04, 2.34389285e+04, 2.34110217e+04, 2.34465587e+04,\n",
      "       2.34820956e+04, 3.03131218e-03, 1.00237829e+00, 6.48146174e-02,\n",
      "       1.10325528e+00, 7.24955970e-04, 7.81352000e+02, 3.00000000e+00,\n",
      "       3.00000000e+00, 0.00000000e+00]), array([ 2.54531300e+03,  5.62207093e+01,  5.71415485e+01,             nan,\n",
      "        2.34480400e+04,  2.34406648e+04,  2.34119812e+04,  2.34476200e+04,\n",
      "        2.34832588e+04,  3.03986174e-03,  1.00211510e+00,  1.78054467e-01,\n",
      "        5.03048687e-01, -2.21590594e-04,  3.41501000e+02,  3.00000000e+00,\n",
      "        3.00000000e+00,  0.00000000e+00]), array([ 2.94961300e+03,  5.65608384e+01,  5.54299123e+01,             nan,\n",
      "        2.34478360e+04,  2.34425598e+04,  2.34118113e+04,  2.34479187e+04,\n",
      "        2.34840260e+04,  3.07979336e-03,  1.00228469e+00, -2.17294976e-02,\n",
      "        6.19340571e-01,  1.61967479e-04,  4.04300000e+02,  3.00000000e+00,\n",
      "        3.00000000e+00,  0.00000000e+00]), array([ 2.60336100e+03,  5.61067723e+01,  5.91755554e+01,             nan,\n",
      "        2.34484840e+04,  2.34440167e+04,  2.34116516e+04,  2.34483267e+04,\n",
      "        2.34850018e+04,  3.12816395e-03,  1.00212921e+00,  6.90970045e-02,\n",
      "        5.45379159e-01, -1.61941249e-04,  3.46252000e+02,  3.00000000e+00,\n",
      "        3.00000000e+00,  0.00000000e+00]), array([ 2.08316600e+03,  5.43486285e+01,  5.84549321e+01,             nan,\n",
      "        2.34485320e+04,  2.34442308e+04,  2.34120706e+04,  2.34487160e+04,\n",
      "        2.34853614e+04,  3.12557897e-03,  1.00148340e+00,  5.11823114e-03,\n",
      "        8.09384935e-01, -6.26558404e-04,  5.20195000e+02,  3.00000000e+00,\n",
      "        3.00000000e+00,  0.00000000e+00]), array([ 1.06575000e+03,  5.43365631e+01,  5.33986319e+01,             nan,\n",
      "        2.34483120e+04,  2.34444208e+04,  2.34115183e+04,  2.34483880e+04,\n",
      "        2.34852577e+04,  3.14475259e-03,  1.00150275e+00, -2.34519576e-02,\n",
      "        1.54090884e+00, -4.26497432e-06,  1.01741600e+03,  3.00000000e+00,\n",
      "        3.00000000e+00,  0.00000000e+00]), array([ 5.06794000e+02,  5.30245339e+01,  5.67132008e+01,             nan,\n",
      "        2.34481400e+04,  2.34437730e+04,  2.34117263e+04,  2.34484880e+04,\n",
      "        2.34852497e+04,  3.13552570e-03,  1.00103682e+00, -1.83444751e-02,\n",
      "        8.45511421e-01, -4.56354199e-04,  5.58956000e+02,  3.00000000e+00,\n",
      "        3.00000000e+00,  0.00000000e+00]), array([-2.18891000e+02,  5.15462652e+01,  5.61564195e+01,             nan,\n",
      "        2.34486760e+04,  2.34422366e+04,  2.34127521e+04,  2.34487027e+04,\n",
      "        2.34846533e+04,  3.06631959e-03,  1.00047188e+00,  5.72395175e-02,\n",
      "        1.08693510e+00, -5.20566650e-04,  7.25685000e+02,  3.00000000e+00,\n",
      "        3.00000000e+00,  1.00000000e+00]), array([ 3.79474000e+02,  5.25293475e+01,  5.43982326e+01,             nan,\n",
      "        2.34475720e+04,  2.34414876e+04,  2.34108774e+04,  2.34478347e+04,\n",
      "        2.34847919e+04,  3.15229434e-03,  1.00092361e+00, -1.17646557e-01,\n",
      "        9.32143522e-01,  3.71417106e-04,  5.98365000e+02,  3.00000000e+00,\n",
      "        4.00000000e+00,  1.00000000e+00]), array([ 9.16774000e+02,  5.31888995e+01,  5.87209773e+01,  2.81964575e+01,\n",
      "        2.34470280e+04,  2.34412424e+04,  2.34097323e+04,  2.34472133e+04,\n",
      "        2.34846944e+04,  3.19706069e-03,  1.00122034e+00, -5.79910370e-02,\n",
      "        8.51160712e-01,  2.47519471e-04,  5.37300000e+02,  3.00000000e+00,\n",
      "        4.00000000e+00,  0.00000000e+00])]\n",
      "26\n"
     ]
    },
    {
     "name": "stderr",
     "output_type": "stream",
     "text": [
      "2023-11-05 15:45:19.168077: W tensorflow/core/framework/dataset.cc:959] Input of Window will not be optimized because the dataset does not implement the AsGraphDefInternal() method needed to apply optimizations.\n"
     ]
    }
   ],
   "source": [
    "for element in dataset:\n",
    "  print(list(element.as_numpy_iterator()))\n",
    "  print(len(list(element.as_numpy_iterator())))\n",
    "  break"
   ]
  },
  {
   "cell_type": "code",
   "execution_count": 15,
   "metadata": {
    "id": "8VK1-wgAIMlf"
   },
   "outputs": [],
   "source": [
    "def windowed_dataset(series, window_size, batch_size, shuffle_buffer):\n",
    "    \"\"\"Generates dataset windows\n",
    "\n",
    "    Args:\n",
    "      series (array of float) - contains the values of the time series\n",
    "      window_size (int) - the number of time steps to average\n",
    "      batch_size (int) - the batch size\n",
    "      shuffle_buffer(int) - buffer size to use for the shuffle method\n",
    "\n",
    "    Returns:\n",
    "      dataset (TF Dataset) - TF Dataset containing time windows\n",
    "    \"\"\"\n",
    "\n",
    "    # Generate a TF Dataset from the series values\n",
    "    dataset = tf.data.Dataset.from_tensor_slices(series)\n",
    "\n",
    "    # Window the data but only take those with the specified size\n",
    "    dataset = dataset.window(window_size + 1, shift=1, drop_remainder=True)\n",
    "\n",
    "    # Flatten the windows by putting its elements in a single batch\n",
    "    dataset = dataset.flat_map(lambda window: window.batch(window_size + 1))\n",
    "\n",
    "    # Create tuples of features and labels. Lables used as 18 corresponds to &s-up_or_down\n",
    "    dataset = dataset.map(lambda window: (window[:-1], window[18][-1]))\n",
    "\n",
    "    # Shuffle the windows\n",
    "    dataset = dataset.shuffle(shuffle_buffer)\n",
    "\n",
    "    # Create batches of windows\n",
    "    dataset = dataset.batch(batch_size).prefetch(1)\n",
    "\n",
    "    return dataset"
   ]
  },
  {
   "cell_type": "code",
   "execution_count": 16,
   "metadata": {
    "id": "EHHxRhioIMlg"
   },
   "outputs": [],
   "source": [
    "train_set = windowed_dataset(train_data, window_size, batch_size, shuffle_buffer_size)\n",
    "val_set = windowed_dataset(val_data, window_size, batch_size, shuffle_buffer_size)\n",
    "test_set = windowed_dataset(test_data, window_size, batch_size, shuffle_buffer_size)\n"
   ]
  },
  {
   "cell_type": "markdown",
   "metadata": {
    "id": "fQdQS3VR7ScZ"
   },
   "source": [
    "for element, elemental in train_set:\n",
    "  print(list(element.as_numpy_iterator()))\n",
    "  print(len(list(element.as_numpy_iterator())))\n",
    "  break"
   ]
  },
  {
   "cell_type": "code",
   "execution_count": 17,
   "metadata": {
    "colab": {
     "base_uri": "https://localhost:8080/"
    },
    "id": "JoK3qTG36sXC",
    "outputId": "0b5d0ed6-9008-4127-8481-bdb46b5acffb"
   },
   "outputs": [
    {
     "name": "stdout",
     "output_type": "stream",
     "text": [
      "(16, 25, 18)\n",
      "(16,)\n"
     ]
    }
   ],
   "source": [
    "for element, elemental in train_set:\n",
    "  print(element.shape)\n",
    "  print(elemental.shape)\n",
    "  break"
   ]
  },
  {
   "cell_type": "code",
   "execution_count": 18,
   "metadata": {
    "colab": {
     "base_uri": "https://localhost:8080/"
    },
    "id": "RAP0Jsdr9Bo4",
    "outputId": "5c142a38-0b27-40f8-ebe8-a7a2006d5b21"
   },
   "outputs": [
    {
     "name": "stdout",
     "output_type": "stream",
     "text": [
      "x =  [[[-1.77981376e+05  4.90524618e+01  2.74872012e+01 ...  5.00000000e+00\n",
      "    1.00000000e+01  1.00000000e+00]\n",
      "  [-1.81088318e+05  4.17238224e+01  2.59070874e+01 ...  5.00000000e+00\n",
      "    1.00000000e+01  1.00000000e+00]\n",
      "  [-1.79713788e+05  4.76688859e+01  3.09048442e+01 ...  5.00000000e+00\n",
      "    1.00000000e+01  1.00000000e+00]\n",
      "  ...\n",
      "  [-1.74000500e+05  5.27270106e+01  5.69599103e+01 ...  5.00000000e+00\n",
      "    1.10000000e+01  1.00000000e+00]\n",
      "  [-1.74598953e+05  5.16975065e+01  5.46391306e+01 ...  5.00000000e+00\n",
      "    1.10000000e+01  1.00000000e+00]\n",
      "  [-1.72659136e+05  5.29407816e+01  5.85816205e+01 ...  5.00000000e+00\n",
      "    1.20000000e+01  1.00000000e+00]]\n",
      "\n",
      " [[-2.50649200e+03  3.31346556e+01  3.61857535e+01 ...  3.00000000e+00\n",
      "    1.60000000e+01  0.00000000e+00]\n",
      "  [-3.99726700e+03  3.24483444e+01  3.28306288e+01 ...  3.00000000e+00\n",
      "    1.60000000e+01  1.00000000e+00]\n",
      "  [-1.37526500e+03  3.80829781e+01  3.37275398e+01 ...  3.00000000e+00\n",
      "    1.60000000e+01  1.00000000e+00]\n",
      "  ...\n",
      "  [-1.64865900e+03  4.10495035e+01  4.45060878e+01 ...  3.00000000e+00\n",
      "    1.80000000e+01  1.00000000e+00]\n",
      "  [-2.84268300e+03  3.93459746e+01  4.62402252e+01 ...  3.00000000e+00\n",
      "    1.80000000e+01  1.00000000e+00]\n",
      "  [-2.13669600e+03  4.05867224e+01  5.16558493e+01 ...  3.00000000e+00\n",
      "    1.80000000e+01  1.00000000e+00]]\n",
      "\n",
      " [[-3.26491450e+04  3.34248423e+01  2.44578477e+01 ...  4.00000000e+00\n",
      "    1.00000000e+00  0.00000000e+00]\n",
      "  [-3.56698290e+04  3.13655682e+01  2.37810394e+01 ...  4.00000000e+00\n",
      "    1.00000000e+00  0.00000000e+00]\n",
      "  [-3.85230410e+04  2.99323484e+01  2.24658931e+01 ...  4.00000000e+00\n",
      "    1.00000000e+00  0.00000000e+00]\n",
      "  ...\n",
      "  [-4.45451960e+04  3.55100938e+01  3.82943229e+01 ...  4.00000000e+00\n",
      "    2.00000000e+00  1.00000000e+00]\n",
      "  [-4.23497370e+04  3.92247428e+01  4.16843941e+01 ...  4.00000000e+00\n",
      "    2.00000000e+00  0.00000000e+00]\n",
      "  [-4.41795010e+04  3.70854178e+01  3.89279167e+01 ...  4.00000000e+00\n",
      "    3.00000000e+00  1.00000000e+00]]\n",
      "\n",
      " ...\n",
      "\n",
      " [[-1.92461423e+05  3.31509303e+01  2.37353271e+01 ...  5.00000000e+00\n",
      "    1.90000000e+01  0.00000000e+00]\n",
      "  [-1.98500915e+05  3.09742693e+01  2.30020487e+01 ...  5.00000000e+00\n",
      "    1.90000000e+01  0.00000000e+00]\n",
      "  [-1.94763770e+05  4.03140443e+01  2.91960210e+01 ...  5.00000000e+00\n",
      "    1.90000000e+01  0.00000000e+00]\n",
      "  ...\n",
      "  [-2.12106545e+05  3.09054062e+01  2.40866288e+01 ...  5.00000000e+00\n",
      "    2.00000000e+01  1.00000000e+00]\n",
      "  [-2.20061058e+05  3.08275785e+01  2.32379428e+01 ...  5.00000000e+00\n",
      "    2.10000000e+01  1.00000000e+00]\n",
      "  [-2.14299008e+05  4.24713462e+01  2.92795217e+01 ...  5.00000000e+00\n",
      "    2.10000000e+01  1.00000000e+00]]\n",
      "\n",
      " [[-5.64987500e+03  4.10543341e+01  3.15539507e+01 ...  3.00000000e+00\n",
      "    2.30000000e+01  0.00000000e+00]\n",
      "  [-4.39854400e+03  4.28921757e+01  3.41541099e+01 ...  3.00000000e+00\n",
      "    2.30000000e+01  0.00000000e+00]\n",
      "  [-5.30039800e+03  4.09701746e+01  3.28620548e+01 ...  3.00000000e+00\n",
      "    2.30000000e+01  0.00000000e+00]\n",
      "  ...\n",
      "  [-4.59944890e+04  3.06108209e+01  2.67077715e+01 ...  4.00000000e+00\n",
      "    1.00000000e+00  0.00000000e+00]\n",
      "  [-4.86232220e+04  3.00766528e+01  2.64216248e+01 ...  4.00000000e+00\n",
      "    1.00000000e+00  0.00000000e+00]\n",
      "  [-4.68333510e+04  3.08422598e+01  2.44354147e+01 ...  4.00000000e+00\n",
      "    1.00000000e+00  0.00000000e+00]]\n",
      "\n",
      " [[-1.86940809e+05  5.57368338e+01  5.35569184e+01 ...  5.00000000e+00\n",
      "    2.00000000e+00  1.00000000e+00]\n",
      "  [-1.88122728e+05  5.35869214e+01  5.68204682e+01 ...  5.00000000e+00\n",
      "    2.00000000e+00  1.00000000e+00]\n",
      "  [-1.89116531e+05  5.17803477e+01  6.20158727e+01 ...  5.00000000e+00\n",
      "    3.00000000e+00  1.00000000e+00]\n",
      "  ...\n",
      "  [-1.87060430e+05  4.98232364e+01  5.17891973e+01 ...  5.00000000e+00\n",
      "    4.00000000e+00  1.00000000e+00]\n",
      "  [-1.86155803e+05  5.20144738e+01  5.09104454e+01 ...  5.00000000e+00\n",
      "    4.00000000e+00  1.00000000e+00]\n",
      "  [-1.85609826e+05  5.34295572e+01  5.01827863e+01 ...  5.00000000e+00\n",
      "    4.00000000e+00  1.00000000e+00]]]\n",
      "x =  (16, 25, 18)\n",
      "y =  [1. 1. 1. 1. 1. 0. 1. 0. 1. 0. 0. 1. 0. 0. 0. 1.]\n",
      "y =  (16,)\n"
     ]
    }
   ],
   "source": [
    "for idx,(x,y) in enumerate(train_set):\n",
    "    print(\"x = \", x.numpy())\n",
    "    print(\"x = \", x.numpy().shape)\n",
    "    print(\"y = \", y.numpy())\n",
    "    print(\"y = \", y.numpy().shape)\n",
    "    break"
   ]
  },
  {
   "cell_type": "code",
   "execution_count": 19,
   "metadata": {
    "colab": {
     "base_uri": "https://localhost:8080/"
    },
    "id": "dQeWMV24foeK",
    "outputId": "f5d7504a-707a-46ca-9f11-c99000ffcfe9"
   },
   "outputs": [
    {
     "name": "stdout",
     "output_type": "stream",
     "text": [
      "batch_of_features has type: <class 'tensorflow.python.framework.ops.EagerTensor'>\n",
      "\n",
      "batch_of_labels has type: <class 'tensorflow.python.framework.ops.EagerTensor'>\n",
      "\n",
      "batch_of_features has shape: (16, 25, 18)\n",
      "\n",
      "batch_of_labels has shape: (16,)\n",
      "\n"
     ]
    }
   ],
   "source": [
    "# Get the first batch of the test dataset\n",
    "batch_of_features, batch_of_labels = next((iter(test_set)))\n",
    "\n",
    "print(f\"batch_of_features has type: {type(batch_of_features)}\\n\")\n",
    "print(f\"batch_of_labels has type: {type(batch_of_labels)}\\n\")\n",
    "print(f\"batch_of_features has shape: {batch_of_features.shape}\\n\")\n",
    "print(f\"batch_of_labels has shape: {batch_of_labels.shape}\\n\")\n",
    "#print(f\"batch_of_features is equal to first five elements in the series: {np.allclose(batch_of_features.numpy().flatten(), train_set[:5])}\\n\")\n",
    "#print(f\"batch_of_labels is equal to first five labels: {np.allclose(batch_of_labels.numpy(), train_set[1:6])}\")"
   ]
  },
  {
   "cell_type": "code",
   "execution_count": 20,
   "metadata": {
    "id": "oTOprRr_IMlg"
   },
   "outputs": [],
   "source": [
    "def compute_metrics(true_series, forecast):\n",
    "\n",
    "    mse = tf.keras.metrics.mean_squared_error(true_series, forecast).numpy()\n",
    "    mae = tf.keras.metrics.mean_absolute_error(true_series, forecast).numpy()\n",
    "\n",
    "    return mse, mae"
   ]
  },
  {
   "cell_type": "code",
   "execution_count": 21,
   "metadata": {
    "id": "zAcik4M4YFL1"
   },
   "outputs": [],
   "source": [
    "def plot_series(time, series, format=\"-\", start=0, end=None):\n",
    "    plt.plot(time[start:end], series[start:end], format)\n",
    "    plt.xlabel(\"Time\")\n",
    "    plt.ylabel(\"Value\")\n",
    "    plt.grid(False)\n"
   ]
  },
  {
   "cell_type": "markdown",
   "metadata": {
    "id": "6Vyz7oXJfT5b"
   },
   "source": [
    "## Plot Baseline"
   ]
  },
  {
   "cell_type": "code",
   "execution_count": 22,
   "metadata": {
    "colab": {
     "base_uri": "https://localhost:8080/",
     "height": 449
    },
    "id": "iQCQzQuzYul4",
    "outputId": "6755bde4-d81f-459d-9ba4-56ab37684881"
   },
   "outputs": [
    {
     "data": {
      "image/png": "[encoded data removed]",
      "text/plain": [
       "<Figure size 640x480 with 1 Axes>"
      ]
     },
     "metadata": {},
     "output_type": "display_data"
    }
   ],
   "source": [
    "window = 25\n",
    "plot_series(train_time[:window], train_data['&s-up_or_down'].iloc[:window])\n",
    "plot_series(train_time[:window], train_data['&s-up_or_down'].shift(-1).iloc[:window])"
   ]
  },
  {
   "cell_type": "code",
   "execution_count": 23,
   "metadata": {
    "colab": {
     "base_uri": "https://localhost:8080/"
    },
    "id": "WYrzIZYaY_ed",
    "outputId": "f3d1839e-875c-4fe3-b295-503b383791f2"
   },
   "outputs": [
    {
     "name": "stderr",
     "output_type": "stream",
     "text": [
      "2023-11-05 15:45:55.223289: I tensorflow/tsl/platform/default/subprocess.cc:304] Start cannot spawn child process: No such file or directory\n"
     ]
    },
    {
     "name": "stdout",
     "output_type": "stream",
     "text": [
      "mse: 0.16, mae: 0.16 for forecast\n"
     ]
    }
   ],
   "source": [
    "mse, mae = compute_metrics(train_data['&s-up_or_down'].iloc[:window], train_data['&s-up_or_down'].shift(-1).iloc[:window])\n",
    "\n",
    "print(f\"mse: {mse:.2f}, mae: {mae:.2f} for forecast\")"
   ]
  },
  {
   "cell_type": "code",
   "execution_count": 24,
   "metadata": {
    "colab": {
     "base_uri": "https://localhost:8080/"
    },
    "id": "RocnVAdObKSv",
    "outputId": "1d4bee93-3ad3-48c3-dc54-d3b076459d46"
   },
   "outputs": [
    {
     "data": {
      "text/plain": [
       "33.334803590584755"
      ]
     },
     "execution_count": 24,
     "metadata": {},
     "output_type": "execute_result"
    }
   ],
   "source": [
    "cce = tf.keras.losses.CategoricalCrossentropy()\n",
    "cce(train_data['&s-up_or_down'].iloc[:window],train_data['&s-up_or_down'].shift(-1).iloc[:window]).numpy()"
   ]
  },
  {
   "cell_type": "code",
   "execution_count": 25,
   "metadata": {
    "colab": {
     "base_uri": "https://localhost:8080/"
    },
    "id": "6WzW2SlGbhzT",
    "outputId": "d494cf1a-aab3-4444-9e68-50fd44175719"
   },
   "outputs": [
    {
     "data": {
      "text/plain": [
       "2.4679917552847943"
      ]
     },
     "execution_count": 25,
     "metadata": {},
     "output_type": "execute_result"
    }
   ],
   "source": [
    "bce = tf.keras.losses.BinaryCrossentropy(from_logits=False)\n",
    "bce(train_data['&s-up_or_down'].iloc[:window],train_data['&s-up_or_down'].shift(-1).iloc[:window]).numpy()"
   ]
  },
  {
   "cell_type": "markdown",
   "metadata": {
    "id": "qaa9qYFjgemL"
   },
   "source": [
    "## Create Model Architecture"
   ]
  },
  {
   "cell_type": "code",
   "execution_count": 26,
   "metadata": {
    "id": "d2Rk0gwjfIXG"
   },
   "outputs": [],
   "source": [
    "def create_model(window_size=25):\n",
    "\n",
    "    ### START CODE HERE\n",
    "\n",
    "    model = tf.keras.models.Sequential([\n",
    "        tf.keras.layers.Dense(25, input_shape=[16, window_size, window_size], activation='relu'),\n",
    "        tf.keras.layers.Dense(10, activation='relu'),\n",
    "        tf.keras.layers.Dense(10)\n",
    "    ])\n",
    "\n",
    "    # model.compile(loss='mse',\n",
    "    #               optimizer=tf.keras.optimizers.SGD(learning_rate=1e-5, momentum=0.9))\n",
    "\n",
    "    model.compile(optimizer = 'rmsprop',\n",
    "                loss = 'binary_crossentropy',\n",
    "                metrics=['accuracy'])\n",
    "\n",
    "    ### END CODE HERE\n",
    "    model.summary()\n",
    "\n",
    "    return model"
   ]
  },
  {
   "cell_type": "code",
   "execution_count": 27,
   "metadata": {
    "id": "wsrfuazw93L6"
   },
   "outputs": [],
   "source": [
    "def dnn_model(n_steps, n_horizon, n_features, lr):\n",
    "    tf.keras.backend.clear_session()\n",
    "\n",
    "    model = tf.keras.models.Sequential([\n",
    "        tf.keras.layers.Flatten(input_shape=(n_steps, n_features)),\n",
    "        tf.keras.layers.Dense(128, activation='relu'),\n",
    "        tf.keras.layers.Dropout(0.3),\n",
    "        tf.keras.layers.Dense(128, activation='relu'),\n",
    "        tf.keras.layers.Dropout(0.3),\n",
    "        tf.keras.layers.Dense(128, activation='relu'),\n",
    "        tf.keras.layers.Dropout(0.3),\n",
    "        tf.keras.layers.Dense(n_horizon, activation='sigmoid')\n",
    "    ], name='dnn')\n",
    "\n",
    "    # loss=tf.keras.losses.Huber()\n",
    "    # optimizer = tf.keras.optimizers.Adam(learning_rate=lr)\n",
    "\n",
    "    # model.compile(loss=loss, optimizer='adam', metrics=['mae'])\n",
    "\n",
    "    # model.compile(loss='mse',\n",
    "    #               optimizer=tf.keras.optimizers.SGD(learning_rate=1e-4, momentum=0.9))\n",
    "\n",
    "    model.compile(optimizer = 'rmsprop',\n",
    "                loss = 'binary_crossentropy',\n",
    "                metrics=['accuracy'])\n",
    "\n",
    "    return model"
   ]
  },
  {
   "cell_type": "code",
   "execution_count": 28,
   "metadata": {
    "id": "uh4Kaik0Aol-"
   },
   "outputs": [],
   "source": [
    "def uncompiled_dnn_model(n_steps, n_horizon, n_features, lr):\n",
    "    tf.keras.backend.clear_session()\n",
    "\n",
    "    model = tf.keras.models.Sequential([\n",
    "        tf.keras.layers.Flatten(input_shape=(n_steps, n_features)),\n",
    "        tf.keras.layers.Dense(128, activation='relu'),\n",
    "        tf.keras.layers.Dropout(0.3),\n",
    "        tf.keras.layers.Dense(128, activation='relu'),\n",
    "        tf.keras.layers.Dropout(0.3),\n",
    "        tf.keras.layers.Dense(128, activation='relu'),\n",
    "        tf.keras.layers.Dropout(0.3),\n",
    "        tf.keras.layers.Dense(n_horizon, activation='sigmoid')\n",
    "    ], name='dnn')\n",
    "\n",
    "    # loss=tf.keras.losses.Huber()\n",
    "    # optimizer = tf.keras.optimizers.Adam(learning_rate=lr)\n",
    "\n",
    "    # model.compile(loss=loss, optimizer='adam', metrics=['mae'])\n",
    "\n",
    "    # model.compile(loss='mse',\n",
    "    #               optimizer=tf.keras.optimizers.SGD(learning_rate=1e-4, momentum=0.9))\n",
    "\n",
    "    # model.compile(optimizer = 'rmsprop',\n",
    "    #             loss = 'sparse_categorical_crossentropy',\n",
    "    #             metrics=['accuracy'])\n",
    "\n",
    "    return model"
   ]
  },
  {
   "cell_type": "code",
   "execution_count": 29,
   "metadata": {
    "colab": {
     "base_uri": "https://localhost:8080/"
    },
    "id": "eKrH1IdvAOc3",
    "outputId": "d36bfa84-58db-413a-9f77-1cdb20c6991f"
   },
   "outputs": [
    {
     "name": "stdout",
     "output_type": "stream",
     "text": [
      "Testing model prediction with input of shape (16, 25, 18)...\n",
      "1/1 [==============================] - 5s 5s/step\n",
      "Your current architecture is compatible with the windowed dataset! :)\n"
     ]
    }
   ],
   "source": [
    "# Test your uncompiled model\n",
    "\n",
    "# Create an instance of the model\n",
    "uncompiled_model = uncompiled_dnn_model(25,1,18,1e-4)\n",
    "# Get one batch of the training set(X = input, y = label)\n",
    "for X, y in train_set.take(1):\n",
    "\n",
    "    # Generate a prediction\n",
    "    print(f'Testing model prediction with input of shape {X.shape}...')\n",
    "    y_pred = uncompiled_model.predict(X)\n",
    "\n",
    "# Compare the shape of the prediction and the label y (remove dimensions of size 1)\n",
    "y_pred_shape = y_pred.squeeze().shape\n",
    "\n",
    "assert y_pred_shape == y.shape, (f'Squeezed predicted y shape = {y_pred_shape} '\n",
    "                                           f'whereas actual y shape = {y.shape}.')\n",
    "\n",
    "print(\"Your current architecture is compatible with the windowed dataset! :)\")"
   ]
  },
  {
   "cell_type": "code",
   "execution_count": 30,
   "metadata": {
    "colab": {
     "base_uri": "https://localhost:8080/"
    },
    "id": "HPaSERqp96DK",
    "outputId": "d7c9114e-ebdb-49df-e7e7-676b1785c9ac"
   },
   "outputs": [
    {
     "name": "stdout",
     "output_type": "stream",
     "text": [
      "Model: \"dnn\"\n",
      "_________________________________________________________________\n",
      " Layer (type)                Output Shape              Param #   \n",
      "=================================================================\n",
      " flatten (Flatten)           (None, 450)               0         \n",
      "                                                                 \n",
      " dense (Dense)               (None, 128)               57728     \n",
      "                                                                 \n",
      " dropout (Dropout)           (None, 128)               0         \n",
      "                                                                 \n",
      " dense_1 (Dense)             (None, 128)               16512     \n",
      "                                                                 \n",
      " dropout_1 (Dropout)         (None, 128)               0         \n",
      "                                                                 \n",
      " dense_2 (Dense)             (None, 128)               16512     \n",
      "                                                                 \n",
      " dropout_2 (Dropout)         (None, 128)               0         \n",
      "                                                                 \n",
      " dense_3 (Dense)             (None, 1)                 129       \n",
      "                                                                 \n",
      "=================================================================\n",
      "Total params: 90881 (355.00 KB)\n",
      "Trainable params: 90881 (355.00 KB)\n",
      "Non-trainable params: 0 (0.00 Byte)\n",
      "_________________________________________________________________\n"
     ]
    }
   ],
   "source": [
    "dnn = dnn_model(25,1,18,1e-4)\n",
    "dnn.summary()"
   ]
  },
  {
   "cell_type": "code",
   "execution_count": 31,
   "metadata": {
    "id": "QKJu8s3j-hRC"
   },
   "outputs": [],
   "source": [
    "# tf.keras.utils.plot_model(dnn, show_shapes=True)"
   ]
  },
  {
   "cell_type": "code",
   "execution_count": 34,
   "metadata": {
    "id": "HsTGmlRcAcML"
   },
   "outputs": [],
   "source": [
    "def adjust_learning_rate(dataset):\n",
    "\n",
    "    model = uncompiled_dnn_model(25,1,18,1e-4)\n",
    "\n",
    "    lr_schedule = tf.keras.callbacks.LearningRateScheduler(lambda epoch: 1e-4 * 10**(epoch / 20))\n",
    "\n",
    "    ### START CODE HERE\n",
    "\n",
    "    # Select your optimizer\n",
    "    optimizer = tf.keras.optimizers.SGD(momentum=0.9)\n",
    "\n",
    "    # Compile the model passing in the appropriate loss\n",
    "    model.compile(loss='binary_crossentropy',\n",
    "                  optimizer=optimizer,\n",
    "                  metrics=[\"accuracy\"])\n",
    "\n",
    "    ### END CODE HERE\n",
    "\n",
    "    history = model.fit(dataset, epochs=10, callbacks=[lr_schedule])\n",
    "\n",
    "    return history"
   ]
  },
  {
   "cell_type": "code",
   "execution_count": 35,
   "metadata": {
    "colab": {
     "base_uri": "https://localhost:8080/",
     "height": 373
    },
    "id": "27H5XkJGBAMY",
    "outputId": "173b05db-0c19-4a46-ead1-f5e1eeebafd8"
   },
   "outputs": [
    {
     "name": "stdout",
     "output_type": "stream",
     "text": [
      "Epoch 1/10\n",
      "4758/4758 [==============================] - 22s 5ms/step - loss: nan - accuracy: 0.4993 - lr: 1.0000e-04\n",
      "Epoch 2/10\n",
      "  13/4758 [..............................] - ETA: 20s - loss: nan - accuracy: 0.5817 "
     ]
    },
    {
     "name": "stderr",
     "output_type": "stream",
     "text": [
      "2023-11-05 15:53:49.103226: I tensorflow/core/framework/local_rendezvous.cc:421] Local rendezvous recv item cancelled. Key hash: 11389412194250751471\n",
      "2023-11-05 15:53:49.103354: I tensorflow/core/framework/local_rendezvous.cc:425] Local rendezvous send item cancelled. Key hash: 17754173917386972865\n",
      "2023-11-05 15:53:49.103362: I tensorflow/core/framework/local_rendezvous.cc:421] Local rendezvous recv item cancelled. Key hash: 3732071358994373762\n"
     ]
    },
    {
     "name": "stdout",
     "output_type": "stream",
     "text": [
      "4758/4758 [==============================] - 20s 4ms/step - loss: nan - accuracy: 0.4994 - lr: 1.1220e-04\n",
      "Epoch 3/10\n",
      "4758/4758 [==============================] - 20s 4ms/step - loss: nan - accuracy: 0.4994 - lr: 1.2589e-04\n",
      "Epoch 4/10\n",
      "4758/4758 [==============================] - 20s 4ms/step - loss: nan - accuracy: 0.4994 - lr: 1.4125e-04\n",
      "Epoch 5/10\n",
      "4758/4758 [==============================] - 21s 4ms/step - loss: nan - accuracy: 0.4994 - lr: 1.5849e-04\n",
      "Epoch 6/10\n",
      "4758/4758 [==============================] - 20s 4ms/step - loss: nan - accuracy: 0.4994 - lr: 1.7783e-04\n",
      "Epoch 7/10\n",
      "4758/4758 [==============================] - 20s 4ms/step - loss: nan - accuracy: 0.4994 - lr: 1.9953e-04\n",
      "Epoch 8/10\n",
      "4758/4758 [==============================] - 21s 4ms/step - loss: nan - accuracy: 0.4994 - lr: 2.2387e-04\n",
      "Epoch 9/10\n",
      "4758/4758 [==============================] - 20s 4ms/step - loss: nan - accuracy: 0.4994 - lr: 2.5119e-04\n",
      "Epoch 10/10\n",
      "4758/4758 [==============================] - 20s 4ms/step - loss: nan - accuracy: 0.4994 - lr: 2.8184e-04\n"
     ]
    }
   ],
   "source": [
    "lr_history = adjust_learning_rate(train_set)"
   ]
  },
  {
   "cell_type": "code",
   "execution_count": 37,
   "metadata": {
    "colab": {
     "base_uri": "https://localhost:8080/",
     "height": 457
    },
    "id": "HEqxJAeJNf3e",
    "outputId": "f2ccfe8b-e544-4158-e112-26f99cb0eea0"
   },
   "outputs": [
    {
     "data": {
      "text/plain": [
       "(0.0001, 10.0, 0.0, 10.0)"
      ]
     },
     "execution_count": 37,
     "metadata": {},
     "output_type": "execute_result"
    },
    {
     "data": {
      "image/png": "[encoded data removed]",
      "text/plain": [
       "<Figure size 640x480 with 1 Axes>"
      ]
     },
     "metadata": {},
     "output_type": "display_data"
    }
   ],
   "source": [
    "plt.semilogx(lr_history.history[\"lr\"], lr_history.history[\"accuracy\"])\n",
    "plt.axis([1e-4, 10, 0, 10])"
   ]
  },
  {
   "cell_type": "code",
   "execution_count": null,
   "metadata": {
    "colab": {
     "base_uri": "https://localhost:8080/"
    },
    "id": "3jpZtPog-rLL",
    "outputId": "25489edd-1ae7-4044-ce18-81b98a722b85"
   },
   "outputs": [
    {
     "name": "stdout",
     "output_type": "stream",
     "text": [
      "Epoch 1/10\n",
      "4758/4758 [==============================] - 36s 7ms/step - loss: nan - accuracy: 0.4993 - val_loss: nan - val_accuracy: 0.4926\n",
      "Epoch 2/10\n",
      "4758/4758 [==============================] - 37s 8ms/step - loss: nan - accuracy: 0.4994 - val_loss: nan - val_accuracy: 0.4926\n",
      "Epoch 3/10\n",
      "4758/4758 [==============================] - 34s 7ms/step - loss: nan - accuracy: 0.4994 - val_loss: nan - val_accuracy: 0.4926\n",
      "Epoch 4/10\n",
      "4758/4758 [==============================] - 32s 7ms/step - loss: nan - accuracy: 0.4994 - val_loss: nan - val_accuracy: 0.4926\n",
      "Epoch 5/10\n",
      "4758/4758 [==============================] - 32s 7ms/step - loss: nan - accuracy: 0.4994 - val_loss: nan - val_accuracy: 0.4926\n",
      "Epoch 6/10\n",
      "4758/4758 [==============================] - 34s 7ms/step - loss: nan - accuracy: 0.4994 - val_loss: nan - val_accuracy: 0.4926\n",
      "Epoch 7/10\n",
      "4758/4758 [==============================] - 32s 7ms/step - loss: nan - accuracy: 0.4994 - val_loss: nan - val_accuracy: 0.4926\n",
      "Epoch 8/10\n",
      "4758/4758 [==============================] - 37s 8ms/step - loss: nan - accuracy: 0.4994 - val_loss: nan - val_accuracy: 0.4926\n",
      "Epoch 9/10\n",
      "4758/4758 [==============================] - 32s 7ms/step - loss: nan - accuracy: 0.4994 - val_loss: nan - val_accuracy: 0.4926\n",
      "Epoch 10/10\n",
      "4758/4758 [==============================] - 33s 7ms/step - loss: nan - accuracy: 0.4994 - val_loss: nan - val_accuracy: 0.4926\n"
     ]
    },
    {
     "data": {
      "text/plain": [
       "<keras.src.callbacks.History at 0x7f6334e70670>"
      ]
     },
     "execution_count": 188,
     "metadata": {},
     "output_type": "execute_result"
    }
   ],
   "source": [
    "dnn.fit(train_set, verbose=1, epochs=10, validation_data=val_set)"
   ]
  },
  {
   "cell_type": "code",
   "execution_count": null,
   "metadata": {
    "id": "_MQSzjvx5v4a"
   },
   "outputs": [],
   "source": [
    "def cnn_model(n_steps, n_horizon, n_features, lr):\n",
    "    tf.keras.backend.clear_session()\n",
    "\n",
    "    model = tf.keras.models.Sequential([\n",
    "        tf.keras.layers.Conv1D(64, kernel_size=6, activation='relu', input_shape=(n_steps,n_features)),\n",
    "        tf.keras.layers.MaxPooling1D(2),\n",
    "        tf.keras.layers.Conv1D(64, kernel_size=3, activation='relu'),\n",
    "        tf.keras.layers.MaxPooling1D(2),\n",
    "        tf.keras.layers.Flatten(),\n",
    "        tf.keras.layers.Dropout(0.3),\n",
    "        tf.keras.layers.Dense(128),\n",
    "        tf.keras.layers.Dropout(0.3),\n",
    "        tf.keras.layers.Dense(n_horizon)\n",
    "    ], name=\"CNN\")\n",
    "\n",
    "\n",
    "    # loss=tf.keras.losses.Huber()\n",
    "    # optimizer = tf.keras.optimizers.Adam(learning_rate=lr)\n",
    "\n",
    "    # model.compile(loss=loss, optimizer='adam', metrics=['mae'])\n",
    "\n",
    "    # model.compile(loss='mse',\n",
    "    #               optimizer=tf.keras.optimizers.SGD(learning_rate=1e-4, momentum=0.9))\n",
    "\n",
    "    model.compile(optimizer = 'rmsprop',\n",
    "                loss = 'binary_crossentropy',\n",
    "                metrics=['accuracy'])\n",
    "\n",
    "    return model"
   ]
  },
  {
   "cell_type": "code",
   "execution_count": null,
   "metadata": {
    "colab": {
     "base_uri": "https://localhost:8080/"
    },
    "id": "KdkyL856XPwW",
    "outputId": "a95e1073-d8cf-4b0f-aa90-7c395ccd9342"
   },
   "outputs": [
    {
     "name": "stdout",
     "output_type": "stream",
     "text": [
      "Model: \"CNN\"\n",
      "_________________________________________________________________\n",
      " Layer (type)                Output Shape              Param #   \n",
      "=================================================================\n",
      " conv1d (Conv1D)             (None, 20, 64)            6976      \n",
      "                                                                 \n",
      " max_pooling1d (MaxPooling1  (None, 10, 64)            0         \n",
      " D)                                                              \n",
      "                                                                 \n",
      " conv1d_1 (Conv1D)           (None, 8, 64)             12352     \n",
      "                                                                 \n",
      " max_pooling1d_1 (MaxPoolin  (None, 4, 64)             0         \n",
      " g1D)                                                            \n",
      "                                                                 \n",
      " flatten (Flatten)           (None, 256)               0         \n",
      "                                                                 \n",
      " dropout (Dropout)           (None, 256)               0         \n",
      "                                                                 \n",
      " dense (Dense)               (None, 128)               32896     \n",
      "                                                                 \n",
      " dropout_1 (Dropout)         (None, 128)               0         \n",
      "                                                                 \n",
      " dense_1 (Dense)             (None, 1)                 129       \n",
      "                                                                 \n",
      "=================================================================\n",
      "Total params: 52353 (204.50 KB)\n",
      "Trainable params: 52353 (204.50 KB)\n",
      "Non-trainable params: 0 (0.00 Byte)\n",
      "_________________________________________________________________\n"
     ]
    }
   ],
   "source": [
    "cnn = cnn_model(25,1,18,1e-4)\n",
    "cnn.summary()"
   ]
  },
  {
   "cell_type": "code",
   "execution_count": null,
   "metadata": {
    "colab": {
     "base_uri": "https://localhost:8080/",
     "height": 601
    },
    "id": "8_0h2ILzXeCq",
    "outputId": "d6b0fbd6-7640-4aea-808c-43cd67fa1ba4"
   },
   "outputs": [
    {
     "name": "stdout",
     "output_type": "stream",
     "text": [
      "Epoch 1/10\n",
      "4758/4758 [==============================] - 40s 8ms/step - loss: nan - accuracy: 0.4994 - val_loss: nan - val_accuracy: 0.4926\n",
      "Epoch 2/10\n",
      "4758/4758 [==============================] - 34s 7ms/step - loss: nan - accuracy: 0.4994 - val_loss: nan - val_accuracy: 0.4926\n",
      "Epoch 3/10\n",
      "4758/4758 [==============================] - 36s 7ms/step - loss: nan - accuracy: 0.4994 - val_loss: nan - val_accuracy: 0.4926\n",
      "Epoch 4/10\n",
      "4758/4758 [==============================] - 35s 7ms/step - loss: nan - accuracy: 0.4994 - val_loss: nan - val_accuracy: 0.4926\n",
      "Epoch 5/10\n",
      "4758/4758 [==============================] - 36s 8ms/step - loss: nan - accuracy: 0.4994 - val_loss: nan - val_accuracy: 0.4926\n",
      "Epoch 6/10\n",
      "4758/4758 [==============================] - 36s 7ms/step - loss: nan - accuracy: 0.4994 - val_loss: nan - val_accuracy: 0.4926\n",
      "Epoch 7/10\n",
      "2646/4758 [===============>..............] - ETA: 16s - loss: nan - accuracy: 0.5052"
     ]
    },
    {
     "ename": "KeyboardInterrupt",
     "evalue": "ignored",
     "output_type": "error",
     "traceback": [
      "\u001b[0;31m---------------------------------------------------------------------------\u001b[0m",
      "\u001b[0;31mKeyboardInterrupt\u001b[0m                         Traceback (most recent call last)",
      "\u001b[0;32m<ipython-input-193-1db0cbb73c6d>\u001b[0m in \u001b[0;36m<cell line: 1>\u001b[0;34m()\u001b[0m\n\u001b[0;32m----> 1\u001b[0;31m \u001b[0mcnn\u001b[0m\u001b[0;34m.\u001b[0m\u001b[0mfit\u001b[0m\u001b[0;34m(\u001b[0m\u001b[0mtrain_set\u001b[0m\u001b[0;34m,\u001b[0m \u001b[0mverbose\u001b[0m\u001b[0;34m=\u001b[0m\u001b[0;36m1\u001b[0m\u001b[0;34m,\u001b[0m \u001b[0mepochs\u001b[0m\u001b[0;34m=\u001b[0m\u001b[0;36m10\u001b[0m\u001b[0;34m,\u001b[0m \u001b[0mvalidation_data\u001b[0m\u001b[0;34m=\u001b[0m\u001b[0mval_set\u001b[0m\u001b[0;34m)\u001b[0m\u001b[0;34m\u001b[0m\u001b[0;34m\u001b[0m\u001b[0m\n\u001b[0m",
      "\u001b[0;32m/usr/local/lib/python3.10/dist-packages/keras/src/utils/traceback_utils.py\u001b[0m in \u001b[0;36merror_handler\u001b[0;34m(*args, **kwargs)\u001b[0m\n\u001b[1;32m     63\u001b[0m         \u001b[0mfiltered_tb\u001b[0m \u001b[0;34m=\u001b[0m \u001b[0;32mNone\u001b[0m\u001b[0;34m\u001b[0m\u001b[0;34m\u001b[0m\u001b[0m\n\u001b[1;32m     64\u001b[0m         \u001b[0;32mtry\u001b[0m\u001b[0;34m:\u001b[0m\u001b[0;34m\u001b[0m\u001b[0;34m\u001b[0m\u001b[0m\n\u001b[0;32m---> 65\u001b[0;31m             \u001b[0;32mreturn\u001b[0m \u001b[0mfn\u001b[0m\u001b[0;34m(\u001b[0m\u001b[0;34m*\u001b[0m\u001b[0margs\u001b[0m\u001b[0;34m,\u001b[0m \u001b[0;34m**\u001b[0m\u001b[0mkwargs\u001b[0m\u001b[0;34m)\u001b[0m\u001b[0;34m\u001b[0m\u001b[0;34m\u001b[0m\u001b[0m\n\u001b[0m\u001b[1;32m     66\u001b[0m         \u001b[0;32mexcept\u001b[0m \u001b[0mException\u001b[0m \u001b[0;32mas\u001b[0m \u001b[0me\u001b[0m\u001b[0;34m:\u001b[0m\u001b[0;34m\u001b[0m\u001b[0;34m\u001b[0m\u001b[0m\n\u001b[1;32m     67\u001b[0m             \u001b[0mfiltered_tb\u001b[0m \u001b[0;34m=\u001b[0m \u001b[0m_process_traceback_frames\u001b[0m\u001b[0;34m(\u001b[0m\u001b[0me\u001b[0m\u001b[0;34m.\u001b[0m\u001b[0m__traceback__\u001b[0m\u001b[0;34m)\u001b[0m\u001b[0;34m\u001b[0m\u001b[0;34m\u001b[0m\u001b[0m\n",
      "\u001b[0;32m/usr/local/lib/python3.10/dist-packages/keras/src/engine/training.py\u001b[0m in \u001b[0;36mfit\u001b[0;34m(self, x, y, batch_size, epochs, verbose, callbacks, validation_split, validation_data, shuffle, class_weight, sample_weight, initial_epoch, steps_per_epoch, validation_steps, validation_batch_size, validation_freq, max_queue_size, workers, use_multiprocessing)\u001b[0m\n\u001b[1;32m   1781\u001b[0m                         ):\n\u001b[1;32m   1782\u001b[0m                             \u001b[0mcallbacks\u001b[0m\u001b[0;34m.\u001b[0m\u001b[0mon_train_batch_begin\u001b[0m\u001b[0;34m(\u001b[0m\u001b[0mstep\u001b[0m\u001b[0;34m)\u001b[0m\u001b[0;34m\u001b[0m\u001b[0;34m\u001b[0m\u001b[0m\n\u001b[0;32m-> 1783\u001b[0;31m                             \u001b[0mtmp_logs\u001b[0m \u001b[0;34m=\u001b[0m \u001b[0mself\u001b[0m\u001b[0;34m.\u001b[0m\u001b[0mtrain_function\u001b[0m\u001b[0;34m(\u001b[0m\u001b[0miterator\u001b[0m\u001b[0;34m)\u001b[0m\u001b[0;34m\u001b[0m\u001b[0;34m\u001b[0m\u001b[0m\n\u001b[0m\u001b[1;32m   1784\u001b[0m                             \u001b[0;32mif\u001b[0m \u001b[0mdata_handler\u001b[0m\u001b[0;34m.\u001b[0m\u001b[0mshould_sync\u001b[0m\u001b[0;34m:\u001b[0m\u001b[0;34m\u001b[0m\u001b[0;34m\u001b[0m\u001b[0m\n\u001b[1;32m   1785\u001b[0m                                 \u001b[0mcontext\u001b[0m\u001b[0;34m.\u001b[0m\u001b[0masync_wait\u001b[0m\u001b[0;34m(\u001b[0m\u001b[0;34m)\u001b[0m\u001b[0;34m\u001b[0m\u001b[0;34m\u001b[0m\u001b[0m\n",
      "\u001b[0;32m/usr/local/lib/python3.10/dist-packages/tensorflow/python/util/traceback_utils.py\u001b[0m in \u001b[0;36merror_handler\u001b[0;34m(*args, **kwargs)\u001b[0m\n\u001b[1;32m    148\u001b[0m     \u001b[0mfiltered_tb\u001b[0m \u001b[0;34m=\u001b[0m \u001b[0;32mNone\u001b[0m\u001b[0;34m\u001b[0m\u001b[0;34m\u001b[0m\u001b[0m\n\u001b[1;32m    149\u001b[0m     \u001b[0;32mtry\u001b[0m\u001b[0;34m:\u001b[0m\u001b[0;34m\u001b[0m\u001b[0;34m\u001b[0m\u001b[0m\n\u001b[0;32m--> 150\u001b[0;31m       \u001b[0;32mreturn\u001b[0m \u001b[0mfn\u001b[0m\u001b[0;34m(\u001b[0m\u001b[0;34m*\u001b[0m\u001b[0margs\u001b[0m\u001b[0;34m,\u001b[0m \u001b[0;34m**\u001b[0m\u001b[0mkwargs\u001b[0m\u001b[0;34m)\u001b[0m\u001b[0;34m\u001b[0m\u001b[0;34m\u001b[0m\u001b[0m\n\u001b[0m\u001b[1;32m    151\u001b[0m     \u001b[0;32mexcept\u001b[0m \u001b[0mException\u001b[0m \u001b[0;32mas\u001b[0m \u001b[0me\u001b[0m\u001b[0;34m:\u001b[0m\u001b[0;34m\u001b[0m\u001b[0;34m\u001b[0m\u001b[0m\n\u001b[1;32m    152\u001b[0m       \u001b[0mfiltered_tb\u001b[0m \u001b[0;34m=\u001b[0m \u001b[0m_process_traceback_frames\u001b[0m\u001b[0;34m(\u001b[0m\u001b[0me\u001b[0m\u001b[0;34m.\u001b[0m\u001b[0m__traceback__\u001b[0m\u001b[0;34m)\u001b[0m\u001b[0;34m\u001b[0m\u001b[0;34m\u001b[0m\u001b[0m\n",
      "\u001b[0;32m/usr/local/lib/python3.10/dist-packages/tensorflow/python/eager/polymorphic_function/polymorphic_function.py\u001b[0m in \u001b[0;36m__call__\u001b[0;34m(self, *args, **kwds)\u001b[0m\n\u001b[1;32m    829\u001b[0m \u001b[0;34m\u001b[0m\u001b[0m\n\u001b[1;32m    830\u001b[0m       \u001b[0;32mwith\u001b[0m \u001b[0mOptionalXlaContext\u001b[0m\u001b[0;34m(\u001b[0m\u001b[0mself\u001b[0m\u001b[0;34m.\u001b[0m\u001b[0m_jit_compile\u001b[0m\u001b[0;34m)\u001b[0m\u001b[0;34m:\u001b[0m\u001b[0;34m\u001b[0m\u001b[0;34m\u001b[0m\u001b[0m\n\u001b[0;32m--> 831\u001b[0;31m         \u001b[0mresult\u001b[0m \u001b[0;34m=\u001b[0m \u001b[0mself\u001b[0m\u001b[0;34m.\u001b[0m\u001b[0m_call\u001b[0m\u001b[0;34m(\u001b[0m\u001b[0;34m*\u001b[0m\u001b[0margs\u001b[0m\u001b[0;34m,\u001b[0m \u001b[0;34m**\u001b[0m\u001b[0mkwds\u001b[0m\u001b[0;34m)\u001b[0m\u001b[0;34m\u001b[0m\u001b[0;34m\u001b[0m\u001b[0m\n\u001b[0m\u001b[1;32m    832\u001b[0m \u001b[0;34m\u001b[0m\u001b[0m\n\u001b[1;32m    833\u001b[0m       \u001b[0mnew_tracing_count\u001b[0m \u001b[0;34m=\u001b[0m \u001b[0mself\u001b[0m\u001b[0;34m.\u001b[0m\u001b[0mexperimental_get_tracing_count\u001b[0m\u001b[0;34m(\u001b[0m\u001b[0;34m)\u001b[0m\u001b[0;34m\u001b[0m\u001b[0;34m\u001b[0m\u001b[0m\n",
      "\u001b[0;32m/usr/local/lib/python3.10/dist-packages/tensorflow/python/eager/polymorphic_function/polymorphic_function.py\u001b[0m in \u001b[0;36m_call\u001b[0;34m(self, *args, **kwds)\u001b[0m\n\u001b[1;32m    865\u001b[0m       \u001b[0;31m# In this case we have created variables on the first call, so we run the\u001b[0m\u001b[0;34m\u001b[0m\u001b[0;34m\u001b[0m\u001b[0m\n\u001b[1;32m    866\u001b[0m       \u001b[0;31m# defunned version which is guaranteed to never create variables.\u001b[0m\u001b[0;34m\u001b[0m\u001b[0;34m\u001b[0m\u001b[0m\n\u001b[0;32m--> 867\u001b[0;31m       return tracing_compilation.call_function(\n\u001b[0m\u001b[1;32m    868\u001b[0m           \u001b[0margs\u001b[0m\u001b[0;34m,\u001b[0m \u001b[0mkwds\u001b[0m\u001b[0;34m,\u001b[0m \u001b[0mself\u001b[0m\u001b[0;34m.\u001b[0m\u001b[0m_no_variable_creation_config\u001b[0m\u001b[0;34m\u001b[0m\u001b[0;34m\u001b[0m\u001b[0m\n\u001b[1;32m    869\u001b[0m       )\n",
      "\u001b[0;32m/usr/local/lib/python3.10/dist-packages/tensorflow/python/eager/polymorphic_function/tracing_compilation.py\u001b[0m in \u001b[0;36mcall_function\u001b[0;34m(args, kwargs, tracing_options)\u001b[0m\n\u001b[1;32m    137\u001b[0m   \u001b[0mbound_args\u001b[0m \u001b[0;34m=\u001b[0m \u001b[0mfunction\u001b[0m\u001b[0;34m.\u001b[0m\u001b[0mfunction_type\u001b[0m\u001b[0;34m.\u001b[0m\u001b[0mbind\u001b[0m\u001b[0;34m(\u001b[0m\u001b[0;34m*\u001b[0m\u001b[0margs\u001b[0m\u001b[0;34m,\u001b[0m \u001b[0;34m**\u001b[0m\u001b[0mkwargs\u001b[0m\u001b[0;34m)\u001b[0m\u001b[0;34m\u001b[0m\u001b[0;34m\u001b[0m\u001b[0m\n\u001b[1;32m    138\u001b[0m   \u001b[0mflat_inputs\u001b[0m \u001b[0;34m=\u001b[0m \u001b[0mfunction\u001b[0m\u001b[0;34m.\u001b[0m\u001b[0mfunction_type\u001b[0m\u001b[0;34m.\u001b[0m\u001b[0munpack_inputs\u001b[0m\u001b[0;34m(\u001b[0m\u001b[0mbound_args\u001b[0m\u001b[0;34m)\u001b[0m\u001b[0;34m\u001b[0m\u001b[0;34m\u001b[0m\u001b[0m\n\u001b[0;32m--> 139\u001b[0;31m   return function._call_flat(  # pylint: disable=protected-access\n\u001b[0m\u001b[1;32m    140\u001b[0m       \u001b[0mflat_inputs\u001b[0m\u001b[0;34m,\u001b[0m \u001b[0mcaptured_inputs\u001b[0m\u001b[0;34m=\u001b[0m\u001b[0mfunction\u001b[0m\u001b[0;34m.\u001b[0m\u001b[0mcaptured_inputs\u001b[0m\u001b[0;34m\u001b[0m\u001b[0;34m\u001b[0m\u001b[0m\n\u001b[1;32m    141\u001b[0m   )\n",
      "\u001b[0;32m/usr/local/lib/python3.10/dist-packages/tensorflow/python/eager/polymorphic_function/concrete_function.py\u001b[0m in \u001b[0;36m_call_flat\u001b[0;34m(self, tensor_inputs, captured_inputs)\u001b[0m\n\u001b[1;32m   1262\u001b[0m         and executing_eagerly):\n\u001b[1;32m   1263\u001b[0m       \u001b[0;31m# No tape is watching; skip to running the function.\u001b[0m\u001b[0;34m\u001b[0m\u001b[0;34m\u001b[0m\u001b[0m\n\u001b[0;32m-> 1264\u001b[0;31m       \u001b[0;32mreturn\u001b[0m \u001b[0mself\u001b[0m\u001b[0;34m.\u001b[0m\u001b[0m_inference_function\u001b[0m\u001b[0;34m.\u001b[0m\u001b[0mflat_call\u001b[0m\u001b[0;34m(\u001b[0m\u001b[0margs\u001b[0m\u001b[0;34m)\u001b[0m\u001b[0;34m\u001b[0m\u001b[0;34m\u001b[0m\u001b[0m\n\u001b[0m\u001b[1;32m   1265\u001b[0m     forward_backward = self._select_forward_and_backward_functions(\n\u001b[1;32m   1266\u001b[0m         \u001b[0margs\u001b[0m\u001b[0;34m,\u001b[0m\u001b[0;34m\u001b[0m\u001b[0;34m\u001b[0m\u001b[0m\n",
      "\u001b[0;32m/usr/local/lib/python3.10/dist-packages/tensorflow/python/eager/polymorphic_function/atomic_function.py\u001b[0m in \u001b[0;36mflat_call\u001b[0;34m(self, args)\u001b[0m\n\u001b[1;32m    215\u001b[0m   \u001b[0;32mdef\u001b[0m \u001b[0mflat_call\u001b[0m\u001b[0;34m(\u001b[0m\u001b[0mself\u001b[0m\u001b[0;34m,\u001b[0m \u001b[0margs\u001b[0m\u001b[0;34m:\u001b[0m \u001b[0mSequence\u001b[0m\u001b[0;34m[\u001b[0m\u001b[0mcore\u001b[0m\u001b[0;34m.\u001b[0m\u001b[0mTensor\u001b[0m\u001b[0;34m]\u001b[0m\u001b[0;34m)\u001b[0m \u001b[0;34m->\u001b[0m \u001b[0mAny\u001b[0m\u001b[0;34m:\u001b[0m\u001b[0;34m\u001b[0m\u001b[0;34m\u001b[0m\u001b[0m\n\u001b[1;32m    216\u001b[0m     \u001b[0;34m\"\"\"Calls with tensor inputs and returns the structured output.\"\"\"\u001b[0m\u001b[0;34m\u001b[0m\u001b[0;34m\u001b[0m\u001b[0m\n\u001b[0;32m--> 217\u001b[0;31m     \u001b[0mflat_outputs\u001b[0m \u001b[0;34m=\u001b[0m \u001b[0mself\u001b[0m\u001b[0;34m(\u001b[0m\u001b[0;34m*\u001b[0m\u001b[0margs\u001b[0m\u001b[0;34m)\u001b[0m\u001b[0;34m\u001b[0m\u001b[0;34m\u001b[0m\u001b[0m\n\u001b[0m\u001b[1;32m    218\u001b[0m     \u001b[0;32mreturn\u001b[0m \u001b[0mself\u001b[0m\u001b[0;34m.\u001b[0m\u001b[0mfunction_type\u001b[0m\u001b[0;34m.\u001b[0m\u001b[0mpack_output\u001b[0m\u001b[0;34m(\u001b[0m\u001b[0mflat_outputs\u001b[0m\u001b[0;34m)\u001b[0m\u001b[0;34m\u001b[0m\u001b[0;34m\u001b[0m\u001b[0m\n\u001b[1;32m    219\u001b[0m \u001b[0;34m\u001b[0m\u001b[0m\n",
      "\u001b[0;32m/usr/local/lib/python3.10/dist-packages/tensorflow/python/eager/polymorphic_function/atomic_function.py\u001b[0m in \u001b[0;36m__call__\u001b[0;34m(self, *args)\u001b[0m\n\u001b[1;32m    250\u001b[0m         \u001b[0;32mwith\u001b[0m \u001b[0mrecord\u001b[0m\u001b[0;34m.\u001b[0m\u001b[0mstop_recording\u001b[0m\u001b[0;34m(\u001b[0m\u001b[0;34m)\u001b[0m\u001b[0;34m:\u001b[0m\u001b[0;34m\u001b[0m\u001b[0;34m\u001b[0m\u001b[0m\n\u001b[1;32m    251\u001b[0m           \u001b[0;32mif\u001b[0m \u001b[0mself\u001b[0m\u001b[0;34m.\u001b[0m\u001b[0m_bound_context\u001b[0m\u001b[0;34m.\u001b[0m\u001b[0mexecuting_eagerly\u001b[0m\u001b[0;34m(\u001b[0m\u001b[0;34m)\u001b[0m\u001b[0;34m:\u001b[0m\u001b[0;34m\u001b[0m\u001b[0;34m\u001b[0m\u001b[0m\n\u001b[0;32m--> 252\u001b[0;31m             outputs = self._bound_context.call_function(\n\u001b[0m\u001b[1;32m    253\u001b[0m                 \u001b[0mself\u001b[0m\u001b[0;34m.\u001b[0m\u001b[0mname\u001b[0m\u001b[0;34m,\u001b[0m\u001b[0;34m\u001b[0m\u001b[0;34m\u001b[0m\u001b[0m\n\u001b[1;32m    254\u001b[0m                 \u001b[0mlist\u001b[0m\u001b[0;34m(\u001b[0m\u001b[0margs\u001b[0m\u001b[0;34m)\u001b[0m\u001b[0;34m,\u001b[0m\u001b[0;34m\u001b[0m\u001b[0;34m\u001b[0m\u001b[0m\n",
      "\u001b[0;32m/usr/local/lib/python3.10/dist-packages/tensorflow/python/eager/context.py\u001b[0m in \u001b[0;36mcall_function\u001b[0;34m(self, name, tensor_inputs, num_outputs)\u001b[0m\n\u001b[1;32m   1477\u001b[0m     \u001b[0mcancellation_context\u001b[0m \u001b[0;34m=\u001b[0m \u001b[0mcancellation\u001b[0m\u001b[0;34m.\u001b[0m\u001b[0mcontext\u001b[0m\u001b[0;34m(\u001b[0m\u001b[0;34m)\u001b[0m\u001b[0;34m\u001b[0m\u001b[0;34m\u001b[0m\u001b[0m\n\u001b[1;32m   1478\u001b[0m     \u001b[0;32mif\u001b[0m \u001b[0mcancellation_context\u001b[0m \u001b[0;32mis\u001b[0m \u001b[0;32mNone\u001b[0m\u001b[0;34m:\u001b[0m\u001b[0;34m\u001b[0m\u001b[0;34m\u001b[0m\u001b[0m\n\u001b[0;32m-> 1479\u001b[0;31m       outputs = execute.execute(\n\u001b[0m\u001b[1;32m   1480\u001b[0m           \u001b[0mname\u001b[0m\u001b[0;34m.\u001b[0m\u001b[0mdecode\u001b[0m\u001b[0;34m(\u001b[0m\u001b[0;34m\"utf-8\"\u001b[0m\u001b[0;34m)\u001b[0m\u001b[0;34m,\u001b[0m\u001b[0;34m\u001b[0m\u001b[0;34m\u001b[0m\u001b[0m\n\u001b[1;32m   1481\u001b[0m           \u001b[0mnum_outputs\u001b[0m\u001b[0;34m=\u001b[0m\u001b[0mnum_outputs\u001b[0m\u001b[0;34m,\u001b[0m\u001b[0;34m\u001b[0m\u001b[0;34m\u001b[0m\u001b[0m\n",
      "\u001b[0;32m/usr/local/lib/python3.10/dist-packages/tensorflow/python/eager/execute.py\u001b[0m in \u001b[0;36mquick_execute\u001b[0;34m(op_name, num_outputs, inputs, attrs, ctx, name)\u001b[0m\n\u001b[1;32m     58\u001b[0m         \u001b[0;32mfor\u001b[0m \u001b[0mt\u001b[0m \u001b[0;32min\u001b[0m \u001b[0minputs\u001b[0m\u001b[0;34m\u001b[0m\u001b[0;34m\u001b[0m\u001b[0m\n\u001b[1;32m     59\u001b[0m     ]\n\u001b[0;32m---> 60\u001b[0;31m     tensors = pywrap_tfe.TFE_Py_Execute(ctx._handle, device_name, op_name,\n\u001b[0m\u001b[1;32m     61\u001b[0m                                         inputs, attrs, num_outputs)\n\u001b[1;32m     62\u001b[0m   \u001b[0;32mexcept\u001b[0m \u001b[0mcore\u001b[0m\u001b[0;34m.\u001b[0m\u001b[0m_NotOkStatusException\u001b[0m \u001b[0;32mas\u001b[0m \u001b[0me\u001b[0m\u001b[0;34m:\u001b[0m\u001b[0;34m\u001b[0m\u001b[0;34m\u001b[0m\u001b[0m\n",
      "\u001b[0;31mKeyboardInterrupt\u001b[0m: "
     ]
    }
   ],
   "source": [
    "cnn.fit(train_set, verbose=1, epochs=10, validation_data=val_set)"
   ]
  },
  {
   "cell_type": "code",
   "execution_count": 38,
   "metadata": {
    "id": "cqGafiReXhCX"
   },
   "outputs": [],
   "source": [
    "def lstm_model(n_steps, n_horizon, n_features, lr):\n",
    "    tf.keras.backend.clear_session()\n",
    "\n",
    "    model = tf.keras.models.Sequential([\n",
    "        tf.keras.layers.LSTM(72, activation='relu', input_shape=(n_steps, n_features), return_sequences=True),\n",
    "        tf.keras.layers.LSTM(48, activation='relu', return_sequences=False),\n",
    "        tf.keras.layers.Flatten(),\n",
    "        tf.keras.layers.Dropout(0.3),\n",
    "        tf.keras.layers.Dense(128, activation='relu'),\n",
    "        tf.keras.layers.Dropout(0.3),\n",
    "        tf.keras.layers.Dense(n_horizon)\n",
    "    ], name='lstm')\n",
    "\n",
    "\n",
    "    # loss=tf.keras.losses.Huber()\n",
    "    # optimizer = tf.keras.optimizers.Adam(learning_rate=lr)\n",
    "\n",
    "    # model.compile(loss=loss, optimizer='adam', metrics=['mae'])\n",
    "\n",
    "    # model.compile(loss='mse',\n",
    "    #               optimizer=tf.keras.optimizers.SGD(learning_rate=1e-4, momentum=0.9))\n",
    "\n",
    "    model.compile(optimizer = 'rmsprop',\n",
    "                loss = 'binary_crossentropy',\n",
    "                metrics=['accuracy'])\n",
    "\n",
    "    return model"
   ]
  },
  {
   "cell_type": "code",
   "execution_count": null,
   "metadata": {
    "colab": {
     "base_uri": "https://localhost:8080/",
     "height": 844
    },
    "id": "VzMt8rJ5X3O0",
    "outputId": "9df27655-44f4-4ed1-8793-9bd5cac81712"
   },
   "outputs": [],
   "source": [
    "lstm = lstm_model(25,1,18,1e-4)\n",
    "lstm.summary()\n",
    "lstm.fit(train_set, verbose=1, epochs=10, validation_data=val_set)"
   ]
  },
  {
   "cell_type": "code",
   "execution_count": 49,
   "metadata": {},
   "outputs": [],
   "source": [
    "from tensorflow.keras.layers import Layer\n",
    "from tensorflow.keras.initializers import RandomUniform\n",
    "\n",
    "class BinaryStochasticLayer(tf.keras.layers.Layer):\n",
    "    def __init__(self, num_neurons, **kwargs):\n",
    "        super(BinaryStochasticLayer, self).__init__(**kwargs)\n",
    "        self.num_neurons = num_neurons\n",
    "\n",
    "    def build(self, input_shape):\n",
    "        self.kernels = []\n",
    "        for _ in range(self.num_neurons):\n",
    "            kernel = self.add_weight(\"kernel\", shape=input_shape[1:], initializer=RandomUniform(0, 1), trainable=True)\n",
    "            self.kernels.append(kernel)\n",
    "        super(BinaryStochasticLayer, self).build(input_shape)\n",
    "\n",
    "    def call(self, inputs):\n",
    "        stochastic_activations = []\n",
    "        for kernel in self.kernels:\n",
    "            stochastic_activation = tf.random.uniform(tf.shape(inputs)) < kernel\n",
    "            stochastic_activations.append(stochastic_activation)\n",
    "        return tf.concat(stochastic_activations, axis=-1)"
   ]
  },
  {
   "cell_type": "code",
   "execution_count": 50,
   "metadata": {},
   "outputs": [],
   "source": [
    "def binary_model(n_steps, n_horizon, n_features, lr):\n",
    "    tf.keras.backend.clear_session()\n",
    "\n",
    "    model = tf.keras.models.Sequential(name='lstm-binary')\n",
    "\n",
    "    \n",
    "    # Add the rest of the layers\n",
    "    model.add(tf.keras.layers.LSTM(72, activation='relu', return_sequences=True))\n",
    "    model.add(tf.keras.layers.LSTM(48, activation='relu', return_sequences=False))\n",
    "    model.add(tf.keras.layers.Flatten())\n",
    "    model.add(tf.keras.layers.Dropout(0.3))\n",
    "\n",
    "    # Insert the BinaryStochasticNeuron layer at the beginning\n",
    "    model.add(BinaryStochasticLayer(128, input_shape=(n_steps, n_features)))\n",
    "    #model.add(Dense(128, activation='relu'))\n",
    "    model.add(tf.keras.layers.Dropout(0.3))\n",
    "    model.add(tf.keras.layers.Dense(n_horizon))\n",
    "    \n",
    "\n",
    "\n",
    "    # loss=tf.keras.losses.Huber()\n",
    "    # optimizer = tf.keras.optimizers.Adam(learning_rate=lr)\n",
    "\n",
    "    # model.compile(loss=loss, optimizer='adam', metrics=['mae'])\n",
    "\n",
    "    # model.compile(loss='mse',\n",
    "    #               optimizer=tf.keras.optimizers.SGD(learning_rate=1e-4, momentum=0.9))\n",
    "\n",
    "    model.compile(optimizer = 'rmsprop',\n",
    "                loss = 'binary_crossentropy',\n",
    "                metrics=['accuracy'])\n",
    "\n",
    "    return model"
   ]
  },
  {
   "cell_type": "code",
   "execution_count": null,
   "metadata": {},
   "outputs": [],
   "source": [
    "binary_model_f = binary_model(25,1,18,1e-4)\n",
    "#binary_model_f.summary()\n",
    "binary_model_f.fit(train_set, verbose=1, epochs=10, validation_data=val_set)"
   ]
  },
  {
   "cell_type": "code",
   "execution_count": null,
   "metadata": {
    "id": "q1bDi9T_YCYd"
   },
   "outputs": [],
   "source": [
    "def lstm_cnn_model(n_steps, n_horizon, n_features, lr):\n",
    "    tf.keras.backend.clear_session()\n",
    "\n",
    "    model = tf.keras.models.Sequential([\n",
    "        tf.keras.layers.Conv1D(64, kernel_size=6, activation='relu', input_shape=(n_steps,n_features)),\n",
    "        tf.keras.layers.MaxPooling1D(2),\n",
    "        tf.keras.layers.Conv1D(64, kernel_size=3, activation='relu'),\n",
    "        tf.keras.layers.MaxPooling1D(2),\n",
    "        tf.keras.layers.LSTM(72, activation='relu', return_sequences=True),\n",
    "        tf.keras.layers.LSTM(48, activation='relu', return_sequences=False),\n",
    "        tf.keras.layers.Flatten(),\n",
    "        tf.keras.layers.Dropout(0.3),\n",
    "        tf.keras.layers.Dense(128),\n",
    "        tf.keras.layers.Dropout(0.3),\n",
    "        tf.keras.layers.Dense(n_horizon)\n",
    "    ], name=\"lstm_cnn\")\n",
    "\n",
    "\n",
    "    #loss=tf.keras.losses.Huber()\n",
    "    # optimizer = tf.keras.optimizers.Adam(learning_rate=lr)\n",
    "\n",
    "    # model.compile(loss=loss, optimizer='adam', metrics=['mae'])\n",
    "\n",
    "    # model.compile(loss='mse',\n",
    "    #               optimizer=tf.keras.optimizers.SGD(learning_rate=1e-4, momentum=0.9))\n",
    "\n",
    "    model.compile(optimizer = 'rmsprop',\n",
    "                loss = 'binary_crossentropy',\n",
    "                metrics=['accuracy'])\n",
    "\n",
    "    return model"
   ]
  },
  {
   "cell_type": "code",
   "execution_count": null,
   "metadata": {
    "colab": {
     "base_uri": "https://localhost:8080/",
     "height": 1000
    },
    "id": "fUrt4QC8aB9n",
    "outputId": "ad5b87a0-d4d7-47a0-a82a-87f41ba5d60d"
   },
   "outputs": [
    {
     "name": "stderr",
     "output_type": "stream",
     "text": [
      "WARNING:tensorflow:Layer lstm will not use cuDNN kernels since it doesn't meet the criteria. It will use a generic GPU kernel as fallback when running on GPU.\n",
      "WARNING:tensorflow:Layer lstm_1 will not use cuDNN kernels since it doesn't meet the criteria. It will use a generic GPU kernel as fallback when running on GPU.\n"
     ]
    },
    {
     "name": "stdout",
     "output_type": "stream",
     "text": [
      "Model: \"lstm_cnn\"\n",
      "_________________________________________________________________\n",
      " Layer (type)                Output Shape              Param #   \n",
      "=================================================================\n",
      " conv1d (Conv1D)             (None, 20, 64)            6976      \n",
      "                                                                 \n",
      " max_pooling1d (MaxPooling1  (None, 10, 64)            0         \n",
      " D)                                                              \n",
      "                                                                 \n",
      " conv1d_1 (Conv1D)           (None, 8, 64)             12352     \n",
      "                                                                 \n",
      " max_pooling1d_1 (MaxPoolin  (None, 4, 64)             0         \n",
      " g1D)                                                            \n",
      "                                                                 \n",
      " lstm (LSTM)                 (None, 4, 72)             39456     \n",
      "                                                                 \n",
      " lstm_1 (LSTM)               (None, 48)                23232     \n",
      "                                                                 \n",
      " flatten (Flatten)           (None, 48)                0         \n",
      "                                                                 \n",
      " dropout (Dropout)           (None, 48)                0         \n",
      "                                                                 \n",
      " dense (Dense)               (None, 128)               6272      \n",
      "                                                                 \n",
      " dropout_1 (Dropout)         (None, 128)               0         \n",
      "                                                                 \n",
      " dense_1 (Dense)             (None, 1)                 129       \n",
      "                                                                 \n",
      "=================================================================\n",
      "Total params: 88417 (345.38 KB)\n",
      "Trainable params: 88417 (345.38 KB)\n",
      "Non-trainable params: 0 (0.00 Byte)\n",
      "_________________________________________________________________\n",
      "Epoch 1/10\n",
      "    122/Unknown - 8s 38ms/step - loss: nan - accuracy: 0.5307"
     ]
    },
    {
     "ename": "KeyboardInterrupt",
     "evalue": "ignored",
     "output_type": "error",
     "traceback": [
      "\u001b[0;31m---------------------------------------------------------------------------\u001b[0m",
      "\u001b[0;31mKeyboardInterrupt\u001b[0m                         Traceback (most recent call last)",
      "\u001b[0;32m<ipython-input-197-40c7a2f54146>\u001b[0m in \u001b[0;36m<cell line: 3>\u001b[0;34m()\u001b[0m\n\u001b[1;32m      1\u001b[0m \u001b[0mlstm_cnn\u001b[0m \u001b[0;34m=\u001b[0m \u001b[0mlstm_cnn_model\u001b[0m\u001b[0;34m(\u001b[0m\u001b[0;36m25\u001b[0m\u001b[0;34m,\u001b[0m\u001b[0;36m1\u001b[0m\u001b[0;34m,\u001b[0m\u001b[0;36m18\u001b[0m\u001b[0;34m,\u001b[0m\u001b[0;36m1e-4\u001b[0m\u001b[0;34m)\u001b[0m\u001b[0;34m\u001b[0m\u001b[0;34m\u001b[0m\u001b[0m\n\u001b[1;32m      2\u001b[0m \u001b[0mlstm_cnn\u001b[0m\u001b[0;34m.\u001b[0m\u001b[0msummary\u001b[0m\u001b[0;34m(\u001b[0m\u001b[0;34m)\u001b[0m\u001b[0;34m\u001b[0m\u001b[0;34m\u001b[0m\u001b[0m\n\u001b[0;32m----> 3\u001b[0;31m \u001b[0mlstm_cnn\u001b[0m\u001b[0;34m.\u001b[0m\u001b[0mfit\u001b[0m\u001b[0;34m(\u001b[0m\u001b[0mtrain_set\u001b[0m\u001b[0;34m,\u001b[0m \u001b[0mverbose\u001b[0m\u001b[0;34m=\u001b[0m\u001b[0;36m1\u001b[0m\u001b[0;34m,\u001b[0m \u001b[0mepochs\u001b[0m\u001b[0;34m=\u001b[0m\u001b[0;36m10\u001b[0m\u001b[0;34m,\u001b[0m \u001b[0mvalidation_data\u001b[0m\u001b[0;34m=\u001b[0m\u001b[0mval_set\u001b[0m\u001b[0;34m)\u001b[0m\u001b[0;34m\u001b[0m\u001b[0;34m\u001b[0m\u001b[0m\n\u001b[0m",
      "\u001b[0;32m/usr/local/lib/python3.10/dist-packages/keras/src/utils/traceback_utils.py\u001b[0m in \u001b[0;36merror_handler\u001b[0;34m(*args, **kwargs)\u001b[0m\n\u001b[1;32m     63\u001b[0m         \u001b[0mfiltered_tb\u001b[0m \u001b[0;34m=\u001b[0m \u001b[0;32mNone\u001b[0m\u001b[0;34m\u001b[0m\u001b[0;34m\u001b[0m\u001b[0m\n\u001b[1;32m     64\u001b[0m         \u001b[0;32mtry\u001b[0m\u001b[0;34m:\u001b[0m\u001b[0;34m\u001b[0m\u001b[0;34m\u001b[0m\u001b[0m\n\u001b[0;32m---> 65\u001b[0;31m             \u001b[0;32mreturn\u001b[0m \u001b[0mfn\u001b[0m\u001b[0;34m(\u001b[0m\u001b[0;34m*\u001b[0m\u001b[0margs\u001b[0m\u001b[0;34m,\u001b[0m \u001b[0;34m**\u001b[0m\u001b[0mkwargs\u001b[0m\u001b[0;34m)\u001b[0m\u001b[0;34m\u001b[0m\u001b[0;34m\u001b[0m\u001b[0m\n\u001b[0m\u001b[1;32m     66\u001b[0m         \u001b[0;32mexcept\u001b[0m \u001b[0mException\u001b[0m \u001b[0;32mas\u001b[0m \u001b[0me\u001b[0m\u001b[0;34m:\u001b[0m\u001b[0;34m\u001b[0m\u001b[0;34m\u001b[0m\u001b[0m\n\u001b[1;32m     67\u001b[0m             \u001b[0mfiltered_tb\u001b[0m \u001b[0;34m=\u001b[0m \u001b[0m_process_traceback_frames\u001b[0m\u001b[0;34m(\u001b[0m\u001b[0me\u001b[0m\u001b[0;34m.\u001b[0m\u001b[0m__traceback__\u001b[0m\u001b[0;34m)\u001b[0m\u001b[0;34m\u001b[0m\u001b[0;34m\u001b[0m\u001b[0m\n",
      "\u001b[0;32m/usr/local/lib/python3.10/dist-packages/keras/src/engine/training.py\u001b[0m in \u001b[0;36mfit\u001b[0;34m(self, x, y, batch_size, epochs, verbose, callbacks, validation_split, validation_data, shuffle, class_weight, sample_weight, initial_epoch, steps_per_epoch, validation_steps, validation_batch_size, validation_freq, max_queue_size, workers, use_multiprocessing)\u001b[0m\n\u001b[1;32m   1781\u001b[0m                         ):\n\u001b[1;32m   1782\u001b[0m                             \u001b[0mcallbacks\u001b[0m\u001b[0;34m.\u001b[0m\u001b[0mon_train_batch_begin\u001b[0m\u001b[0;34m(\u001b[0m\u001b[0mstep\u001b[0m\u001b[0;34m)\u001b[0m\u001b[0;34m\u001b[0m\u001b[0;34m\u001b[0m\u001b[0m\n\u001b[0;32m-> 1783\u001b[0;31m                             \u001b[0mtmp_logs\u001b[0m \u001b[0;34m=\u001b[0m \u001b[0mself\u001b[0m\u001b[0;34m.\u001b[0m\u001b[0mtrain_function\u001b[0m\u001b[0;34m(\u001b[0m\u001b[0miterator\u001b[0m\u001b[0;34m)\u001b[0m\u001b[0;34m\u001b[0m\u001b[0;34m\u001b[0m\u001b[0m\n\u001b[0m\u001b[1;32m   1784\u001b[0m                             \u001b[0;32mif\u001b[0m \u001b[0mdata_handler\u001b[0m\u001b[0;34m.\u001b[0m\u001b[0mshould_sync\u001b[0m\u001b[0;34m:\u001b[0m\u001b[0;34m\u001b[0m\u001b[0;34m\u001b[0m\u001b[0m\n\u001b[1;32m   1785\u001b[0m                                 \u001b[0mcontext\u001b[0m\u001b[0;34m.\u001b[0m\u001b[0masync_wait\u001b[0m\u001b[0;34m(\u001b[0m\u001b[0;34m)\u001b[0m\u001b[0;34m\u001b[0m\u001b[0;34m\u001b[0m\u001b[0m\n",
      "\u001b[0;32m/usr/local/lib/python3.10/dist-packages/tensorflow/python/util/traceback_utils.py\u001b[0m in \u001b[0;36merror_handler\u001b[0;34m(*args, **kwargs)\u001b[0m\n\u001b[1;32m    148\u001b[0m     \u001b[0mfiltered_tb\u001b[0m \u001b[0;34m=\u001b[0m \u001b[0;32mNone\u001b[0m\u001b[0;34m\u001b[0m\u001b[0;34m\u001b[0m\u001b[0m\n\u001b[1;32m    149\u001b[0m     \u001b[0;32mtry\u001b[0m\u001b[0;34m:\u001b[0m\u001b[0;34m\u001b[0m\u001b[0;34m\u001b[0m\u001b[0m\n\u001b[0;32m--> 150\u001b[0;31m       \u001b[0;32mreturn\u001b[0m \u001b[0mfn\u001b[0m\u001b[0;34m(\u001b[0m\u001b[0;34m*\u001b[0m\u001b[0margs\u001b[0m\u001b[0;34m,\u001b[0m \u001b[0;34m**\u001b[0m\u001b[0mkwargs\u001b[0m\u001b[0;34m)\u001b[0m\u001b[0;34m\u001b[0m\u001b[0;34m\u001b[0m\u001b[0m\n\u001b[0m\u001b[1;32m    151\u001b[0m     \u001b[0;32mexcept\u001b[0m \u001b[0mException\u001b[0m \u001b[0;32mas\u001b[0m \u001b[0me\u001b[0m\u001b[0;34m:\u001b[0m\u001b[0;34m\u001b[0m\u001b[0;34m\u001b[0m\u001b[0m\n\u001b[1;32m    152\u001b[0m       \u001b[0mfiltered_tb\u001b[0m \u001b[0;34m=\u001b[0m \u001b[0m_process_traceback_frames\u001b[0m\u001b[0;34m(\u001b[0m\u001b[0me\u001b[0m\u001b[0;34m.\u001b[0m\u001b[0m__traceback__\u001b[0m\u001b[0;34m)\u001b[0m\u001b[0;34m\u001b[0m\u001b[0;34m\u001b[0m\u001b[0m\n",
      "\u001b[0;32m/usr/local/lib/python3.10/dist-packages/tensorflow/python/eager/polymorphic_function/polymorphic_function.py\u001b[0m in \u001b[0;36m__call__\u001b[0;34m(self, *args, **kwds)\u001b[0m\n\u001b[1;32m    829\u001b[0m \u001b[0;34m\u001b[0m\u001b[0m\n\u001b[1;32m    830\u001b[0m       \u001b[0;32mwith\u001b[0m \u001b[0mOptionalXlaContext\u001b[0m\u001b[0;34m(\u001b[0m\u001b[0mself\u001b[0m\u001b[0;34m.\u001b[0m\u001b[0m_jit_compile\u001b[0m\u001b[0;34m)\u001b[0m\u001b[0;34m:\u001b[0m\u001b[0;34m\u001b[0m\u001b[0;34m\u001b[0m\u001b[0m\n\u001b[0;32m--> 831\u001b[0;31m         \u001b[0mresult\u001b[0m \u001b[0;34m=\u001b[0m \u001b[0mself\u001b[0m\u001b[0;34m.\u001b[0m\u001b[0m_call\u001b[0m\u001b[0;34m(\u001b[0m\u001b[0;34m*\u001b[0m\u001b[0margs\u001b[0m\u001b[0;34m,\u001b[0m \u001b[0;34m**\u001b[0m\u001b[0mkwds\u001b[0m\u001b[0;34m)\u001b[0m\u001b[0;34m\u001b[0m\u001b[0;34m\u001b[0m\u001b[0m\n\u001b[0m\u001b[1;32m    832\u001b[0m \u001b[0;34m\u001b[0m\u001b[0m\n\u001b[1;32m    833\u001b[0m       \u001b[0mnew_tracing_count\u001b[0m \u001b[0;34m=\u001b[0m \u001b[0mself\u001b[0m\u001b[0;34m.\u001b[0m\u001b[0mexperimental_get_tracing_count\u001b[0m\u001b[0;34m(\u001b[0m\u001b[0;34m)\u001b[0m\u001b[0;34m\u001b[0m\u001b[0;34m\u001b[0m\u001b[0m\n",
      "\u001b[0;32m/usr/local/lib/python3.10/dist-packages/tensorflow/python/eager/polymorphic_function/polymorphic_function.py\u001b[0m in \u001b[0;36m_call\u001b[0;34m(self, *args, **kwds)\u001b[0m\n\u001b[1;32m    865\u001b[0m       \u001b[0;31m# In this case we have created variables on the first call, so we run the\u001b[0m\u001b[0;34m\u001b[0m\u001b[0;34m\u001b[0m\u001b[0m\n\u001b[1;32m    866\u001b[0m       \u001b[0;31m# defunned version which is guaranteed to never create variables.\u001b[0m\u001b[0;34m\u001b[0m\u001b[0;34m\u001b[0m\u001b[0m\n\u001b[0;32m--> 867\u001b[0;31m       return tracing_compilation.call_function(\n\u001b[0m\u001b[1;32m    868\u001b[0m           \u001b[0margs\u001b[0m\u001b[0;34m,\u001b[0m \u001b[0mkwds\u001b[0m\u001b[0;34m,\u001b[0m \u001b[0mself\u001b[0m\u001b[0;34m.\u001b[0m\u001b[0m_no_variable_creation_config\u001b[0m\u001b[0;34m\u001b[0m\u001b[0;34m\u001b[0m\u001b[0m\n\u001b[1;32m    869\u001b[0m       )\n",
      "\u001b[0;32m/usr/local/lib/python3.10/dist-packages/tensorflow/python/eager/polymorphic_function/tracing_compilation.py\u001b[0m in \u001b[0;36mcall_function\u001b[0;34m(args, kwargs, tracing_options)\u001b[0m\n\u001b[1;32m    137\u001b[0m   \u001b[0mbound_args\u001b[0m \u001b[0;34m=\u001b[0m \u001b[0mfunction\u001b[0m\u001b[0;34m.\u001b[0m\u001b[0mfunction_type\u001b[0m\u001b[0;34m.\u001b[0m\u001b[0mbind\u001b[0m\u001b[0;34m(\u001b[0m\u001b[0;34m*\u001b[0m\u001b[0margs\u001b[0m\u001b[0;34m,\u001b[0m \u001b[0;34m**\u001b[0m\u001b[0mkwargs\u001b[0m\u001b[0;34m)\u001b[0m\u001b[0;34m\u001b[0m\u001b[0;34m\u001b[0m\u001b[0m\n\u001b[1;32m    138\u001b[0m   \u001b[0mflat_inputs\u001b[0m \u001b[0;34m=\u001b[0m \u001b[0mfunction\u001b[0m\u001b[0;34m.\u001b[0m\u001b[0mfunction_type\u001b[0m\u001b[0;34m.\u001b[0m\u001b[0munpack_inputs\u001b[0m\u001b[0;34m(\u001b[0m\u001b[0mbound_args\u001b[0m\u001b[0;34m)\u001b[0m\u001b[0;34m\u001b[0m\u001b[0;34m\u001b[0m\u001b[0m\n\u001b[0;32m--> 139\u001b[0;31m   return function._call_flat(  # pylint: disable=protected-access\n\u001b[0m\u001b[1;32m    140\u001b[0m       \u001b[0mflat_inputs\u001b[0m\u001b[0;34m,\u001b[0m \u001b[0mcaptured_inputs\u001b[0m\u001b[0;34m=\u001b[0m\u001b[0mfunction\u001b[0m\u001b[0;34m.\u001b[0m\u001b[0mcaptured_inputs\u001b[0m\u001b[0;34m\u001b[0m\u001b[0;34m\u001b[0m\u001b[0m\n\u001b[1;32m    141\u001b[0m   )\n",
      "\u001b[0;32m/usr/local/lib/python3.10/dist-packages/tensorflow/python/eager/polymorphic_function/concrete_function.py\u001b[0m in \u001b[0;36m_call_flat\u001b[0;34m(self, tensor_inputs, captured_inputs)\u001b[0m\n\u001b[1;32m   1262\u001b[0m         and executing_eagerly):\n\u001b[1;32m   1263\u001b[0m       \u001b[0;31m# No tape is watching; skip to running the function.\u001b[0m\u001b[0;34m\u001b[0m\u001b[0;34m\u001b[0m\u001b[0m\n\u001b[0;32m-> 1264\u001b[0;31m       \u001b[0;32mreturn\u001b[0m \u001b[0mself\u001b[0m\u001b[0;34m.\u001b[0m\u001b[0m_inference_function\u001b[0m\u001b[0;34m.\u001b[0m\u001b[0mflat_call\u001b[0m\u001b[0;34m(\u001b[0m\u001b[0margs\u001b[0m\u001b[0;34m)\u001b[0m\u001b[0;34m\u001b[0m\u001b[0;34m\u001b[0m\u001b[0m\n\u001b[0m\u001b[1;32m   1265\u001b[0m     forward_backward = self._select_forward_and_backward_functions(\n\u001b[1;32m   1266\u001b[0m         \u001b[0margs\u001b[0m\u001b[0;34m,\u001b[0m\u001b[0;34m\u001b[0m\u001b[0;34m\u001b[0m\u001b[0m\n",
      "\u001b[0;32m/usr/local/lib/python3.10/dist-packages/tensorflow/python/eager/polymorphic_function/atomic_function.py\u001b[0m in \u001b[0;36mflat_call\u001b[0;34m(self, args)\u001b[0m\n\u001b[1;32m    215\u001b[0m   \u001b[0;32mdef\u001b[0m \u001b[0mflat_call\u001b[0m\u001b[0;34m(\u001b[0m\u001b[0mself\u001b[0m\u001b[0;34m,\u001b[0m \u001b[0margs\u001b[0m\u001b[0;34m:\u001b[0m \u001b[0mSequence\u001b[0m\u001b[0;34m[\u001b[0m\u001b[0mcore\u001b[0m\u001b[0;34m.\u001b[0m\u001b[0mTensor\u001b[0m\u001b[0;34m]\u001b[0m\u001b[0;34m)\u001b[0m \u001b[0;34m->\u001b[0m \u001b[0mAny\u001b[0m\u001b[0;34m:\u001b[0m\u001b[0;34m\u001b[0m\u001b[0;34m\u001b[0m\u001b[0m\n\u001b[1;32m    216\u001b[0m     \u001b[0;34m\"\"\"Calls with tensor inputs and returns the structured output.\"\"\"\u001b[0m\u001b[0;34m\u001b[0m\u001b[0;34m\u001b[0m\u001b[0m\n\u001b[0;32m--> 217\u001b[0;31m     \u001b[0mflat_outputs\u001b[0m \u001b[0;34m=\u001b[0m \u001b[0mself\u001b[0m\u001b[0;34m(\u001b[0m\u001b[0;34m*\u001b[0m\u001b[0margs\u001b[0m\u001b[0;34m)\u001b[0m\u001b[0;34m\u001b[0m\u001b[0;34m\u001b[0m\u001b[0m\n\u001b[0m\u001b[1;32m    218\u001b[0m     \u001b[0;32mreturn\u001b[0m \u001b[0mself\u001b[0m\u001b[0;34m.\u001b[0m\u001b[0mfunction_type\u001b[0m\u001b[0;34m.\u001b[0m\u001b[0mpack_output\u001b[0m\u001b[0;34m(\u001b[0m\u001b[0mflat_outputs\u001b[0m\u001b[0;34m)\u001b[0m\u001b[0;34m\u001b[0m\u001b[0;34m\u001b[0m\u001b[0m\n\u001b[1;32m    219\u001b[0m \u001b[0;34m\u001b[0m\u001b[0m\n",
      "\u001b[0;32m/usr/local/lib/python3.10/dist-packages/tensorflow/python/eager/polymorphic_function/atomic_function.py\u001b[0m in \u001b[0;36m__call__\u001b[0;34m(self, *args)\u001b[0m\n\u001b[1;32m    250\u001b[0m         \u001b[0;32mwith\u001b[0m \u001b[0mrecord\u001b[0m\u001b[0;34m.\u001b[0m\u001b[0mstop_recording\u001b[0m\u001b[0;34m(\u001b[0m\u001b[0;34m)\u001b[0m\u001b[0;34m:\u001b[0m\u001b[0;34m\u001b[0m\u001b[0;34m\u001b[0m\u001b[0m\n\u001b[1;32m    251\u001b[0m           \u001b[0;32mif\u001b[0m \u001b[0mself\u001b[0m\u001b[0;34m.\u001b[0m\u001b[0m_bound_context\u001b[0m\u001b[0;34m.\u001b[0m\u001b[0mexecuting_eagerly\u001b[0m\u001b[0;34m(\u001b[0m\u001b[0;34m)\u001b[0m\u001b[0;34m:\u001b[0m\u001b[0;34m\u001b[0m\u001b[0;34m\u001b[0m\u001b[0m\n\u001b[0;32m--> 252\u001b[0;31m             outputs = self._bound_context.call_function(\n\u001b[0m\u001b[1;32m    253\u001b[0m                 \u001b[0mself\u001b[0m\u001b[0;34m.\u001b[0m\u001b[0mname\u001b[0m\u001b[0;34m,\u001b[0m\u001b[0;34m\u001b[0m\u001b[0;34m\u001b[0m\u001b[0m\n\u001b[1;32m    254\u001b[0m                 \u001b[0mlist\u001b[0m\u001b[0;34m(\u001b[0m\u001b[0margs\u001b[0m\u001b[0;34m)\u001b[0m\u001b[0;34m,\u001b[0m\u001b[0;34m\u001b[0m\u001b[0;34m\u001b[0m\u001b[0m\n",
      "\u001b[0;32m/usr/local/lib/python3.10/dist-packages/tensorflow/python/eager/context.py\u001b[0m in \u001b[0;36mcall_function\u001b[0;34m(self, name, tensor_inputs, num_outputs)\u001b[0m\n\u001b[1;32m   1477\u001b[0m     \u001b[0mcancellation_context\u001b[0m \u001b[0;34m=\u001b[0m \u001b[0mcancellation\u001b[0m\u001b[0;34m.\u001b[0m\u001b[0mcontext\u001b[0m\u001b[0;34m(\u001b[0m\u001b[0;34m)\u001b[0m\u001b[0;34m\u001b[0m\u001b[0;34m\u001b[0m\u001b[0m\n\u001b[1;32m   1478\u001b[0m     \u001b[0;32mif\u001b[0m \u001b[0mcancellation_context\u001b[0m \u001b[0;32mis\u001b[0m \u001b[0;32mNone\u001b[0m\u001b[0;34m:\u001b[0m\u001b[0;34m\u001b[0m\u001b[0;34m\u001b[0m\u001b[0m\n\u001b[0;32m-> 1479\u001b[0;31m       outputs = execute.execute(\n\u001b[0m\u001b[1;32m   1480\u001b[0m           \u001b[0mname\u001b[0m\u001b[0;34m.\u001b[0m\u001b[0mdecode\u001b[0m\u001b[0;34m(\u001b[0m\u001b[0;34m\"utf-8\"\u001b[0m\u001b[0;34m)\u001b[0m\u001b[0;34m,\u001b[0m\u001b[0;34m\u001b[0m\u001b[0;34m\u001b[0m\u001b[0m\n\u001b[1;32m   1481\u001b[0m           \u001b[0mnum_outputs\u001b[0m\u001b[0;34m=\u001b[0m\u001b[0mnum_outputs\u001b[0m\u001b[0;34m,\u001b[0m\u001b[0;34m\u001b[0m\u001b[0;34m\u001b[0m\u001b[0m\n",
      "\u001b[0;32m/usr/local/lib/python3.10/dist-packages/tensorflow/python/eager/execute.py\u001b[0m in \u001b[0;36mquick_execute\u001b[0;34m(op_name, num_outputs, inputs, attrs, ctx, name)\u001b[0m\n\u001b[1;32m     58\u001b[0m         \u001b[0;32mfor\u001b[0m \u001b[0mt\u001b[0m \u001b[0;32min\u001b[0m \u001b[0minputs\u001b[0m\u001b[0;34m\u001b[0m\u001b[0;34m\u001b[0m\u001b[0m\n\u001b[1;32m     59\u001b[0m     ]\n\u001b[0;32m---> 60\u001b[0;31m     tensors = pywrap_tfe.TFE_Py_Execute(ctx._handle, device_name, op_name,\n\u001b[0m\u001b[1;32m     61\u001b[0m                                         inputs, attrs, num_outputs)\n\u001b[1;32m     62\u001b[0m   \u001b[0;32mexcept\u001b[0m \u001b[0mcore\u001b[0m\u001b[0;34m.\u001b[0m\u001b[0m_NotOkStatusException\u001b[0m \u001b[0;32mas\u001b[0m \u001b[0me\u001b[0m\u001b[0;34m:\u001b[0m\u001b[0;34m\u001b[0m\u001b[0;34m\u001b[0m\u001b[0m\n",
      "\u001b[0;31mKeyboardInterrupt\u001b[0m: "
     ]
    }
   ],
   "source": [
    "lstm_cnn = lstm_cnn_model(25,1,18,1e-4)\n",
    "lstm_cnn.summary()\n",
    "lstm_cnn.fit(train_set, verbose=1, epochs=10, validation_data=val_set)"
   ]
  },
  {
   "cell_type": "code",
   "execution_count": null,
   "metadata": {
    "id": "hGqf_9MTaKbv"
   },
   "outputs": [],
   "source": []
  }
 ],
 "metadata": {
  "accelerator": "GPU",
  "colab": {
   "gpuType": "T4",
   "provenance": []
  },
  "file_extension": ".py",
  "kernelspec": {
   "display_name": "freqtrade",
   "language": "python",
   "name": "freqtrade"
  },
  "language_info": {
   "codemirror_mode": {
    "name": "ipython",
    "version": 3
   },
   "file_extension": ".py",
   "mimetype": "text/x-python",
   "name": "python",
   "nbconvert_exporter": "python",
   "pygments_lexer": "ipython3",
   "version": "3.10.12"
  },
  "mimetype": "text/x-python",
  "name": "python",
  "npconvert_exporter": "python",
  "pygments_lexer": "ipython3",
  "toc": {
   "base_numbering": 1,
   "nav_menu": {},
   "number_sections": true,
   "sideBar": true,
   "skip_h1_title": false,
   "title_cell": "Table of Contents",
   "title_sidebar": "Contents",
   "toc_cell": false,
   "toc_position": {},
   "toc_section_display": true,
   "toc_window_display": false
  },
  "varInspector": {
   "cols": {
    "lenName": 16,
    "lenType": 16,
    "lenVar": 40
   },
   "kernels_config": {
    "python": {
     "delete_cmd_postfix": "",
     "delete_cmd_prefix": "del ",
     "library": "var_list.py",
     "varRefreshCmd": "print(var_dic_list())"
    },
    "r": {
     "delete_cmd_postfix": ") ",
     "delete_cmd_prefix": "rm(",
     "library": "var_list.r",
     "varRefreshCmd": "cat(var_dic_list()) "
    }
   },
   "types_to_exclude": [
    "module",
    "function",
    "builtin_function_or_method",
    "instance",
    "_Feature"
   ],
   "window_display": false
  },
  "version": 3
 },
 "nbformat": 4,
 "nbformat_minor": 4
}
